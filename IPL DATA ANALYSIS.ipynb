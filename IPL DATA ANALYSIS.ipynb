{
 "cells": [
  {
   "cell_type": "code",
   "execution_count": 1,
   "id": "4fe9fe44",
   "metadata": {},
   "outputs": [],
   "source": [
    "import pandas as pd\n",
    "import numpy as np\n",
    "import seaborn as sns"
   ]
  },
  {
   "cell_type": "code",
   "execution_count": 2,
   "id": "2824d397",
   "metadata": {},
   "outputs": [],
   "source": [
    "ipl= pd.read_csv('C:\\ipl.csv')"
   ]
  },
  {
   "cell_type": "code",
   "execution_count": 3,
   "id": "d8ebb7ef",
   "metadata": {},
   "outputs": [
    {
     "data": {
      "text/html": [
       "<div>\n",
       "<style scoped>\n",
       "    .dataframe tbody tr th:only-of-type {\n",
       "        vertical-align: middle;\n",
       "    }\n",
       "\n",
       "    .dataframe tbody tr th {\n",
       "        vertical-align: top;\n",
       "    }\n",
       "\n",
       "    .dataframe thead th {\n",
       "        text-align: right;\n",
       "    }\n",
       "</style>\n",
       "<table border=\"1\" class=\"dataframe\">\n",
       "  <thead>\n",
       "    <tr style=\"text-align: right;\">\n",
       "      <th></th>\n",
       "      <th>id</th>\n",
       "      <th>city</th>\n",
       "      <th>date</th>\n",
       "      <th>player_of_match</th>\n",
       "      <th>venue</th>\n",
       "      <th>neutral_venue</th>\n",
       "      <th>team1</th>\n",
       "      <th>team2</th>\n",
       "      <th>toss_winner</th>\n",
       "      <th>toss_decision</th>\n",
       "      <th>winner</th>\n",
       "      <th>result</th>\n",
       "      <th>result_margin</th>\n",
       "      <th>eliminator</th>\n",
       "      <th>method</th>\n",
       "      <th>umpire1</th>\n",
       "      <th>umpire2</th>\n",
       "    </tr>\n",
       "  </thead>\n",
       "  <tbody>\n",
       "    <tr>\n",
       "      <th>0</th>\n",
       "      <td>335982</td>\n",
       "      <td>Bangalore</td>\n",
       "      <td>2008-04-18</td>\n",
       "      <td>BB McCullum</td>\n",
       "      <td>M Chinnaswamy Stadium</td>\n",
       "      <td>0</td>\n",
       "      <td>Royal Challengers Bangalore</td>\n",
       "      <td>Kolkata Knight Riders</td>\n",
       "      <td>Royal Challengers Bangalore</td>\n",
       "      <td>field</td>\n",
       "      <td>Kolkata Knight Riders</td>\n",
       "      <td>runs</td>\n",
       "      <td>140.0</td>\n",
       "      <td>N</td>\n",
       "      <td>NaN</td>\n",
       "      <td>Asad Rauf</td>\n",
       "      <td>RE Koertzen</td>\n",
       "    </tr>\n",
       "    <tr>\n",
       "      <th>1</th>\n",
       "      <td>335983</td>\n",
       "      <td>Chandigarh</td>\n",
       "      <td>2008-04-19</td>\n",
       "      <td>MEK Hussey</td>\n",
       "      <td>Punjab Cricket Association Stadium, Mohali</td>\n",
       "      <td>0</td>\n",
       "      <td>Kings XI Punjab</td>\n",
       "      <td>Chennai Super Kings</td>\n",
       "      <td>Chennai Super Kings</td>\n",
       "      <td>bat</td>\n",
       "      <td>Chennai Super Kings</td>\n",
       "      <td>runs</td>\n",
       "      <td>33.0</td>\n",
       "      <td>N</td>\n",
       "      <td>NaN</td>\n",
       "      <td>MR Benson</td>\n",
       "      <td>SL Shastri</td>\n",
       "    </tr>\n",
       "    <tr>\n",
       "      <th>2</th>\n",
       "      <td>335984</td>\n",
       "      <td>Delhi</td>\n",
       "      <td>2008-04-19</td>\n",
       "      <td>MF Maharoof</td>\n",
       "      <td>Feroz Shah Kotla</td>\n",
       "      <td>0</td>\n",
       "      <td>Delhi Daredevils</td>\n",
       "      <td>Rajasthan Royals</td>\n",
       "      <td>Rajasthan Royals</td>\n",
       "      <td>bat</td>\n",
       "      <td>Delhi Daredevils</td>\n",
       "      <td>wickets</td>\n",
       "      <td>9.0</td>\n",
       "      <td>N</td>\n",
       "      <td>NaN</td>\n",
       "      <td>Aleem Dar</td>\n",
       "      <td>GA Pratapkumar</td>\n",
       "    </tr>\n",
       "    <tr>\n",
       "      <th>3</th>\n",
       "      <td>335985</td>\n",
       "      <td>Mumbai</td>\n",
       "      <td>2008-04-20</td>\n",
       "      <td>MV Boucher</td>\n",
       "      <td>Wankhede Stadium</td>\n",
       "      <td>0</td>\n",
       "      <td>Mumbai Indians</td>\n",
       "      <td>Royal Challengers Bangalore</td>\n",
       "      <td>Mumbai Indians</td>\n",
       "      <td>bat</td>\n",
       "      <td>Royal Challengers Bangalore</td>\n",
       "      <td>wickets</td>\n",
       "      <td>5.0</td>\n",
       "      <td>N</td>\n",
       "      <td>NaN</td>\n",
       "      <td>SJ Davis</td>\n",
       "      <td>DJ Harper</td>\n",
       "    </tr>\n",
       "    <tr>\n",
       "      <th>4</th>\n",
       "      <td>335986</td>\n",
       "      <td>Kolkata</td>\n",
       "      <td>2008-04-20</td>\n",
       "      <td>DJ Hussey</td>\n",
       "      <td>Eden Gardens</td>\n",
       "      <td>0</td>\n",
       "      <td>Kolkata Knight Riders</td>\n",
       "      <td>Deccan Chargers</td>\n",
       "      <td>Deccan Chargers</td>\n",
       "      <td>bat</td>\n",
       "      <td>Kolkata Knight Riders</td>\n",
       "      <td>wickets</td>\n",
       "      <td>5.0</td>\n",
       "      <td>N</td>\n",
       "      <td>NaN</td>\n",
       "      <td>BF Bowden</td>\n",
       "      <td>K Hariharan</td>\n",
       "    </tr>\n",
       "  </tbody>\n",
       "</table>\n",
       "</div>"
      ],
      "text/plain": [
       "       id        city        date player_of_match  \\\n",
       "0  335982   Bangalore  2008-04-18     BB McCullum   \n",
       "1  335983  Chandigarh  2008-04-19      MEK Hussey   \n",
       "2  335984       Delhi  2008-04-19     MF Maharoof   \n",
       "3  335985      Mumbai  2008-04-20      MV Boucher   \n",
       "4  335986     Kolkata  2008-04-20       DJ Hussey   \n",
       "\n",
       "                                        venue  neutral_venue  \\\n",
       "0                       M Chinnaswamy Stadium              0   \n",
       "1  Punjab Cricket Association Stadium, Mohali              0   \n",
       "2                            Feroz Shah Kotla              0   \n",
       "3                            Wankhede Stadium              0   \n",
       "4                                Eden Gardens              0   \n",
       "\n",
       "                         team1                        team2  \\\n",
       "0  Royal Challengers Bangalore        Kolkata Knight Riders   \n",
       "1              Kings XI Punjab          Chennai Super Kings   \n",
       "2             Delhi Daredevils             Rajasthan Royals   \n",
       "3               Mumbai Indians  Royal Challengers Bangalore   \n",
       "4        Kolkata Knight Riders              Deccan Chargers   \n",
       "\n",
       "                   toss_winner toss_decision                       winner  \\\n",
       "0  Royal Challengers Bangalore         field        Kolkata Knight Riders   \n",
       "1          Chennai Super Kings           bat          Chennai Super Kings   \n",
       "2             Rajasthan Royals           bat             Delhi Daredevils   \n",
       "3               Mumbai Indians           bat  Royal Challengers Bangalore   \n",
       "4              Deccan Chargers           bat        Kolkata Knight Riders   \n",
       "\n",
       "    result  result_margin eliminator method    umpire1         umpire2  \n",
       "0     runs          140.0          N    NaN  Asad Rauf     RE Koertzen  \n",
       "1     runs           33.0          N    NaN  MR Benson      SL Shastri  \n",
       "2  wickets            9.0          N    NaN  Aleem Dar  GA Pratapkumar  \n",
       "3  wickets            5.0          N    NaN   SJ Davis       DJ Harper  \n",
       "4  wickets            5.0          N    NaN  BF Bowden     K Hariharan  "
      ]
     },
     "execution_count": 3,
     "metadata": {},
     "output_type": "execute_result"
    }
   ],
   "source": [
    "ipl.head()"
   ]
  },
  {
   "cell_type": "code",
   "execution_count": 4,
   "id": "0bc9379c",
   "metadata": {},
   "outputs": [
    {
     "data": {
      "text/plain": [
       "(816, 17)"
      ]
     },
     "execution_count": 4,
     "metadata": {},
     "output_type": "execute_result"
    }
   ],
   "source": [
    "ipl.shape"
   ]
  },
  {
   "cell_type": "code",
   "execution_count": 5,
   "id": "af1bcc49",
   "metadata": {},
   "outputs": [],
   "source": [
    "## Getting frequency of most man of the match or player of the match awards."
   ]
  },
  {
   "cell_type": "code",
   "execution_count": 6,
   "id": "813e308b",
   "metadata": {},
   "outputs": [
    {
     "data": {
      "text/plain": [
       "AB de Villiers    23\n",
       "CH Gayle          22\n",
       "RG Sharma         18\n",
       "DA Warner         17\n",
       "MS Dhoni          17\n",
       "                  ..\n",
       "S Anirudha         1\n",
       "M Kartik           1\n",
       "R McLaren          1\n",
       "RJ Harris          1\n",
       "PJ Cummins         1\n",
       "Name: player_of_match, Length: 233, dtype: int64"
      ]
     },
     "execution_count": 6,
     "metadata": {},
     "output_type": "execute_result"
    }
   ],
   "source": [
    "ipl['player_of_match'].value_counts()"
   ]
  },
  {
   "cell_type": "code",
   "execution_count": 7,
   "id": "e8443515",
   "metadata": {},
   "outputs": [],
   "source": [
    "##Get the top 10 player with most man or player of match awards"
   ]
  },
  {
   "cell_type": "code",
   "execution_count": 8,
   "id": "5dc520a1",
   "metadata": {},
   "outputs": [
    {
     "data": {
      "text/plain": [
       "AB de Villiers    23\n",
       "CH Gayle          22\n",
       "RG Sharma         18\n",
       "DA Warner         17\n",
       "MS Dhoni          17\n",
       "SR Watson         16\n",
       "YK Pathan         16\n",
       "SK Raina          14\n",
       "V Kohli           13\n",
       "G Gambhir         13\n",
       "Name: player_of_match, dtype: int64"
      ]
     },
     "execution_count": 8,
     "metadata": {},
     "output_type": "execute_result"
    }
   ],
   "source": [
    "ipl['player_of_match'].value_counts()[0:10]"
   ]
  },
  {
   "cell_type": "code",
   "execution_count": 9,
   "id": "2f43c37f",
   "metadata": {},
   "outputs": [
    {
     "data": {
      "text/plain": [
       "Index(['AB de Villiers', 'CH Gayle', 'RG Sharma', 'DA Warner', 'MS Dhoni',\n",
       "       'SR Watson', 'YK Pathan', 'SK Raina', 'V Kohli', 'G Gambhir'],\n",
       "      dtype='object')"
      ]
     },
     "execution_count": 9,
     "metadata": {},
     "output_type": "execute_result"
    }
   ],
   "source": [
    "ipl['player_of_match'].value_counts()[0:10].keys()## return keys as index"
   ]
  },
  {
   "cell_type": "code",
   "execution_count": 13,
   "id": "5d7d5c17",
   "metadata": {},
   "outputs": [
    {
     "data": {
      "text/plain": [
       "['AB de Villiers',\n",
       " 'CH Gayle',\n",
       " 'RG Sharma',\n",
       " 'DA Warner',\n",
       " 'MS Dhoni',\n",
       " 'SR Watson',\n",
       " 'YK Pathan',\n",
       " 'SK Raina',\n",
       " 'V Kohli',\n",
       " 'G Gambhir']"
      ]
     },
     "execution_count": 13,
     "metadata": {},
     "output_type": "execute_result"
    }
   ],
   "source": [
    "list(ipl['player_of_match'].value_counts()[0:10].keys())## return as list"
   ]
  },
  {
   "cell_type": "code",
   "execution_count": 12,
   "id": "e6b7234f",
   "metadata": {},
   "outputs": [
    {
     "data": {
      "text/plain": [
       "17    2\n",
       "16    2\n",
       "13    2\n",
       "23    1\n",
       "22    1\n",
       "18    1\n",
       "14    1\n",
       "Name: player_of_match, dtype: int64"
      ]
     },
     "execution_count": 12,
     "metadata": {},
     "output_type": "execute_result"
    }
   ],
   "source": [
    "ipl['player_of_match'].value_counts()[0:10].value_counts() ## frequency of each man of match awards in top 10."
   ]
  },
  {
   "cell_type": "code",
   "execution_count": 18,
   "id": "3ef2d008",
   "metadata": {},
   "outputs": [],
   "source": [
    "# Making a barplot fot top 10 players with most man of match awards.\n",
    "import matplotlib.pyplot as plt\n"
   ]
  },
  {
   "cell_type": "code",
   "execution_count": 29,
   "id": "84509946",
   "metadata": {},
   "outputs": [
    {
     "data": {
      "image/png": "[encoded data removed]",
      "text/plain": [
       "<Figure size 576x360 with 1 Axes>"
      ]
     },
     "metadata": {
      "needs_background": "light"
     },
     "output_type": "display_data"
    }
   ],
   "source": [
    "plt.figure(figsize=(8,5))\n",
    "plt.bar(list(ipl['player_of_match'].value_counts()[0:10].keys()),list(ipl['player_of_match'].value_counts()[0:10]),color = \"g\")\n",
    "plt.show()"
   ]
  },
  {
   "cell_type": "code",
   "execution_count": 30,
   "id": "ee5a7b4b",
   "metadata": {},
   "outputs": [
    {
     "data": {
      "image/png": "[encoded data removed]",
      "text/plain": [
       "<Figure size 576x360 with 1 Axes>"
      ]
     },
     "metadata": {
      "needs_background": "light"
     },
     "output_type": "display_data"
    }
   ],
   "source": [
    "##For top 5 \n",
    "plt.figure(figsize=(8,5))\n",
    "plt.bar(list(ipl['player_of_match'].value_counts()[0:5].keys()),list(ipl['player_of_match'].value_counts()[0:5]),color = \"g\")\n",
    "plt.show()"
   ]
  },
  {
   "cell_type": "code",
   "execution_count": 31,
   "id": "a3dd55b8",
   "metadata": {},
   "outputs": [
    {
     "data": {
      "text/plain": [
       "wickets    435\n",
       "runs       364\n",
       "tie         13\n",
       "Name: result, dtype: int64"
      ]
     },
     "execution_count": 31,
     "metadata": {},
     "output_type": "execute_result"
    }
   ],
   "source": [
    "##getting frequency of 'result' column\n",
    "ipl['result'].value_counts()"
   ]
  },
  {
   "cell_type": "code",
   "execution_count": 32,
   "id": "a5b8c111",
   "metadata": {},
   "outputs": [
    {
     "data": {
      "text/plain": [
       "Mumbai Indians                 106\n",
       "Kolkata Knight Riders           98\n",
       "Chennai Super Kings             97\n",
       "Royal Challengers Bangalore     87\n",
       "Rajasthan Royals                87\n",
       "Kings XI Punjab                 85\n",
       "Delhi Daredevils                80\n",
       "Sunrisers Hyderabad             57\n",
       "Deccan Chargers                 43\n",
       "Pune Warriors                   20\n",
       "Delhi Capitals                  20\n",
       "Gujarat Lions                   15\n",
       "Kochi Tuskers Kerala             8\n",
       "Rising Pune Supergiants          7\n",
       "Rising Pune Supergiant           6\n",
       "Name: toss_winner, dtype: int64"
      ]
     },
     "execution_count": 32,
     "metadata": {},
     "output_type": "execute_result"
    }
   ],
   "source": [
    "##finding no. of toss wins with respect to each team\n",
    "ipl['toss_winner'].value_counts()"
   ]
  },
  {
   "cell_type": "code",
   "execution_count": 33,
   "id": "1145c5d1",
   "metadata": {},
   "outputs": [
    {
     "name": "stdout",
     "output_type": "stream",
     "text": [
      "<class 'pandas.core.frame.DataFrame'>\n",
      "RangeIndex: 816 entries, 0 to 815\n",
      "Data columns (total 17 columns):\n",
      " #   Column           Non-Null Count  Dtype  \n",
      "---  ------           --------------  -----  \n",
      " 0   id               816 non-null    int64  \n",
      " 1   city             803 non-null    object \n",
      " 2   date             816 non-null    object \n",
      " 3   player_of_match  812 non-null    object \n",
      " 4   venue            816 non-null    object \n",
      " 5   neutral_venue    816 non-null    int64  \n",
      " 6   team1            816 non-null    object \n",
      " 7   team2            816 non-null    object \n",
      " 8   toss_winner      816 non-null    object \n",
      " 9   toss_decision    816 non-null    object \n",
      " 10  winner           812 non-null    object \n",
      " 11  result           812 non-null    object \n",
      " 12  result_margin    799 non-null    float64\n",
      " 13  eliminator       812 non-null    object \n",
      " 14  method           19 non-null     object \n",
      " 15  umpire1          816 non-null    object \n",
      " 16  umpire2          816 non-null    object \n",
      "dtypes: float64(1), int64(2), object(14)\n",
      "memory usage: 108.5+ KB\n"
     ]
    }
   ],
   "source": [
    "ipl.info()"
   ]
  },
  {
   "cell_type": "code",
   "execution_count": 35,
   "id": "c8784c0f",
   "metadata": {},
   "outputs": [],
   "source": [
    "# For dropping or removing columns from dataframe.\n",
    "#discard_columns = ['column1','column2','column3']\n",
    "#ipl = ipl.drop(discard_columns, axis=1)\n",
    "#ipl.head()\n",
    "## for removing discard_columns from data if they have NaN or not available values. Used for data cleaning."
   ]
  },
  {
   "cell_type": "code",
   "execution_count": 36,
   "id": "9c0fd239",
   "metadata": {},
   "outputs": [
    {
     "data": {
      "text/plain": [
       "Royal Challengers Bangalore    108\n",
       "Mumbai Indians                  97\n",
       "Kolkata Knight Riders           95\n",
       "Chennai Super Kings             94\n",
       "Kings XI Punjab                 92\n",
       "Delhi Daredevils                83\n",
       "Rajasthan Royals                70\n",
       "Sunrisers Hyderabad             59\n",
       "Deccan Chargers                 39\n",
       "Pune Warriors                   23\n",
       "Delhi Capitals                  19\n",
       "Gujarat Lions                   16\n",
       "Kochi Tuskers Kerala             7\n",
       "Rising Pune Supergiants          7\n",
       "Rising Pune Supergiant           7\n",
       "Name: team1, dtype: int64"
      ]
     },
     "execution_count": 36,
     "metadata": {},
     "output_type": "execute_result"
    }
   ],
   "source": [
    "ipl.team1.value_counts()"
   ]
  },
  {
   "cell_type": "code",
   "execution_count": 37,
   "id": "4505267e",
   "metadata": {},
   "outputs": [
    {
     "data": {
      "text/plain": [
       "Mumbai            101\n",
       "Kolkata            77\n",
       "Delhi              74\n",
       "Bangalore          65\n",
       "Hyderabad          64\n",
       "Chennai            57\n",
       "Chandigarh         56\n",
       "Jaipur             47\n",
       "Pune               38\n",
       "Abu Dhabi          29\n",
       "Dubai              26\n",
       "Bengaluru          15\n",
       "Durban             15\n",
       "Visakhapatnam      13\n",
       "Ahmedabad          12\n",
       "Sharjah            12\n",
       "Centurion          12\n",
       "Rajkot             10\n",
       "Dharamsala          9\n",
       "Indore              9\n",
       "Johannesburg        8\n",
       "Cuttack             7\n",
       "Cape Town           7\n",
       "Port Elizabeth      7\n",
       "Ranchi              7\n",
       "Raipur              6\n",
       "Kochi               5\n",
       "Kanpur              4\n",
       "East London         3\n",
       "Kimberley           3\n",
       "Nagpur              3\n",
       "Bloemfontein        2\n",
       "Name: city, dtype: int64"
      ]
     },
     "execution_count": 37,
     "metadata": {},
     "output_type": "execute_result"
    }
   ],
   "source": [
    "## no. of matches hosted in different cities\n",
    "host = ipl.city.value_counts()\n",
    "host"
   ]
  },
  {
   "cell_type": "code",
   "execution_count": 45,
   "id": "19ecbe9e",
   "metadata": {},
   "outputs": [
    {
     "name": "stderr",
     "output_type": "stream",
     "text": [
      "C:\\Users\\aksha\\anaconda3\\lib\\site-packages\\seaborn\\_decorators.py:36: FutureWarning: Pass the following variables as keyword args: x, y. From version 0.12, the only valid positional argument will be `data`, and passing other arguments without an explicit keyword will result in an error or misinterpretation.\n",
      "  warnings.warn(\n"
     ]
    },
    {
     "data": {
      "image/png": "[encoded data removed]",
      "text/plain": [
       "<Figure size 1080x432 with 1 Axes>"
      ]
     },
     "metadata": {
      "needs_background": "light"
     },
     "output_type": "display_data"
    }
   ],
   "source": [
    "##Barplot\n",
    "plt.figure(figsize=(15,6))\n",
    "plt.xticks(rotation=90)\n",
    "plt.title('Number of matches hosted')\n",
    "count=0\n",
    "cities=pd.DataFrame(host)\n",
    "cities['name']=host.index\n",
    "for i in cities['city']:\n",
    "    plt.text(count-0.4,i+1,str(i),color='black') ### this line is used for proper positioning of no. labels on top of bar.\n",
    "    ## we can change count - 0.4 to count + 0.4 etc to see change in positions of number labels.\n",
    "    count+=1\n",
    "sns.barplot(host.index, host);"
   ]
  },
  {
   "cell_type": "code",
   "execution_count": 46,
   "id": "628025ff",
   "metadata": {},
   "outputs": [],
   "source": [
    "###Mumbai has hosted maximum no. of ipls followed by Kolkata and Delhi."
   ]
  },
  {
   "cell_type": "code",
   "execution_count": 47,
   "id": "e4f716ed",
   "metadata": {},
   "outputs": [],
   "source": [
    "ipl2 = pd.read_csv(\"C:\\ipl2.csv\")"
   ]
  },
  {
   "cell_type": "code",
   "execution_count": 49,
   "id": "a23aa2d3",
   "metadata": {},
   "outputs": [],
   "source": [
    "bat = ipl2.groupby(['id','batsman']).apply(lambda x : np.sum(x['batsman_runs'])).reset_index(name='Innings Runs')"
   ]
  },
  {
   "cell_type": "code",
   "execution_count": 52,
   "id": "8795274b",
   "metadata": {},
   "outputs": [
    {
     "data": {
      "text/html": [
       "<div>\n",
       "<style scoped>\n",
       "    .dataframe tbody tr th:only-of-type {\n",
       "        vertical-align: middle;\n",
       "    }\n",
       "\n",
       "    .dataframe tbody tr th {\n",
       "        vertical-align: top;\n",
       "    }\n",
       "\n",
       "    .dataframe thead th {\n",
       "        text-align: right;\n",
       "    }\n",
       "</style>\n",
       "<table border=\"1\" class=\"dataframe\">\n",
       "  <thead>\n",
       "    <tr style=\"text-align: right;\">\n",
       "      <th></th>\n",
       "      <th>id</th>\n",
       "      <th>batsman</th>\n",
       "      <th>Innings Runs</th>\n",
       "    </tr>\n",
       "  </thead>\n",
       "  <tbody>\n",
       "    <tr>\n",
       "      <th>0</th>\n",
       "      <td>335982</td>\n",
       "      <td>AA Noffke</td>\n",
       "      <td>9</td>\n",
       "    </tr>\n",
       "    <tr>\n",
       "      <th>1</th>\n",
       "      <td>335982</td>\n",
       "      <td>B Akhil</td>\n",
       "      <td>0</td>\n",
       "    </tr>\n",
       "    <tr>\n",
       "      <th>2</th>\n",
       "      <td>335982</td>\n",
       "      <td>BB McCullum</td>\n",
       "      <td>158</td>\n",
       "    </tr>\n",
       "    <tr>\n",
       "      <th>3</th>\n",
       "      <td>335982</td>\n",
       "      <td>CL White</td>\n",
       "      <td>6</td>\n",
       "    </tr>\n",
       "    <tr>\n",
       "      <th>4</th>\n",
       "      <td>335982</td>\n",
       "      <td>DJ Hussey</td>\n",
       "      <td>12</td>\n",
       "    </tr>\n",
       "    <tr>\n",
       "      <th>...</th>\n",
       "      <td>...</td>\n",
       "      <td>...</td>\n",
       "      <td>...</td>\n",
       "    </tr>\n",
       "    <tr>\n",
       "      <th>12157</th>\n",
       "      <td>1237181</td>\n",
       "      <td>RR Pant</td>\n",
       "      <td>56</td>\n",
       "    </tr>\n",
       "    <tr>\n",
       "      <th>12158</th>\n",
       "      <td>1237181</td>\n",
       "      <td>S Dhawan</td>\n",
       "      <td>15</td>\n",
       "    </tr>\n",
       "    <tr>\n",
       "      <th>12159</th>\n",
       "      <td>1237181</td>\n",
       "      <td>SA Yadav</td>\n",
       "      <td>19</td>\n",
       "    </tr>\n",
       "    <tr>\n",
       "      <th>12160</th>\n",
       "      <td>1237181</td>\n",
       "      <td>SO Hetmyer</td>\n",
       "      <td>5</td>\n",
       "    </tr>\n",
       "    <tr>\n",
       "      <th>12161</th>\n",
       "      <td>1237181</td>\n",
       "      <td>SS Iyer</td>\n",
       "      <td>65</td>\n",
       "    </tr>\n",
       "  </tbody>\n",
       "</table>\n",
       "<p>12162 rows × 3 columns</p>\n",
       "</div>"
      ],
      "text/plain": [
       "            id      batsman  Innings Runs\n",
       "0       335982    AA Noffke             9\n",
       "1       335982      B Akhil             0\n",
       "2       335982  BB McCullum           158\n",
       "3       335982     CL White             6\n",
       "4       335982    DJ Hussey            12\n",
       "...        ...          ...           ...\n",
       "12157  1237181      RR Pant            56\n",
       "12158  1237181     S Dhawan            15\n",
       "12159  1237181     SA Yadav            19\n",
       "12160  1237181   SO Hetmyer             5\n",
       "12161  1237181      SS Iyer            65\n",
       "\n",
       "[12162 rows x 3 columns]"
      ]
     },
     "execution_count": 52,
     "metadata": {},
     "output_type": "execute_result"
    }
   ],
   "source": [
    "bat ## calculates the sum of runs of a batsman in an inning as Innings Runs"
   ]
  },
  {
   "cell_type": "code",
   "execution_count": 53,
   "id": "bb1a1df1",
   "metadata": {},
   "outputs": [],
   "source": [
    "sorted_bat = bat.sort_values(by='Innings Runs',ascending=False)"
   ]
  },
  {
   "cell_type": "code",
   "execution_count": 54,
   "id": "651c9597",
   "metadata": {},
   "outputs": [],
   "source": [
    "top_batsmen_scores = sorted_bat[:10]"
   ]
  },
  {
   "cell_type": "code",
   "execution_count": 55,
   "id": "30a77701",
   "metadata": {},
   "outputs": [
    {
     "data": {
      "text/html": [
       "<div>\n",
       "<style scoped>\n",
       "    .dataframe tbody tr th:only-of-type {\n",
       "        vertical-align: middle;\n",
       "    }\n",
       "\n",
       "    .dataframe tbody tr th {\n",
       "        vertical-align: top;\n",
       "    }\n",
       "\n",
       "    .dataframe thead th {\n",
       "        text-align: right;\n",
       "    }\n",
       "</style>\n",
       "<table border=\"1\" class=\"dataframe\">\n",
       "  <thead>\n",
       "    <tr style=\"text-align: right;\">\n",
       "      <th></th>\n",
       "      <th>id</th>\n",
       "      <th>batsman</th>\n",
       "      <th>Innings Runs</th>\n",
       "    </tr>\n",
       "  </thead>\n",
       "  <tbody>\n",
       "    <tr>\n",
       "      <th>5302</th>\n",
       "      <td>598027</td>\n",
       "      <td>CH Gayle</td>\n",
       "      <td>175</td>\n",
       "    </tr>\n",
       "    <tr>\n",
       "      <th>2</th>\n",
       "      <td>335982</td>\n",
       "      <td>BB McCullum</td>\n",
       "      <td>158</td>\n",
       "    </tr>\n",
       "    <tr>\n",
       "      <th>7528</th>\n",
       "      <td>829795</td>\n",
       "      <td>AB de Villiers</td>\n",
       "      <td>133</td>\n",
       "    </tr>\n",
       "    <tr>\n",
       "      <th>11583</th>\n",
       "      <td>1216510</td>\n",
       "      <td>KL Rahul</td>\n",
       "      <td>132</td>\n",
       "    </tr>\n",
       "    <tr>\n",
       "      <th>8359</th>\n",
       "      <td>980987</td>\n",
       "      <td>AB de Villiers</td>\n",
       "      <td>129</td>\n",
       "    </tr>\n",
       "    <tr>\n",
       "      <th>4687</th>\n",
       "      <td>548372</td>\n",
       "      <td>CH Gayle</td>\n",
       "      <td>128</td>\n",
       "    </tr>\n",
       "    <tr>\n",
       "      <th>10149</th>\n",
       "      <td>1136602</td>\n",
       "      <td>RR Pant</td>\n",
       "      <td>128</td>\n",
       "    </tr>\n",
       "    <tr>\n",
       "      <th>2237</th>\n",
       "      <td>419137</td>\n",
       "      <td>M Vijay</td>\n",
       "      <td>127</td>\n",
       "    </tr>\n",
       "    <tr>\n",
       "      <th>9146</th>\n",
       "      <td>1082627</td>\n",
       "      <td>DA Warner</td>\n",
       "      <td>126</td>\n",
       "    </tr>\n",
       "    <tr>\n",
       "      <th>6854</th>\n",
       "      <td>734047</td>\n",
       "      <td>V Sehwag</td>\n",
       "      <td>122</td>\n",
       "    </tr>\n",
       "  </tbody>\n",
       "</table>\n",
       "</div>"
      ],
      "text/plain": [
       "            id         batsman  Innings Runs\n",
       "5302    598027        CH Gayle           175\n",
       "2       335982     BB McCullum           158\n",
       "7528    829795  AB de Villiers           133\n",
       "11583  1216510        KL Rahul           132\n",
       "8359    980987  AB de Villiers           129\n",
       "4687    548372        CH Gayle           128\n",
       "10149  1136602         RR Pant           128\n",
       "2237    419137         M Vijay           127\n",
       "9146   1082627       DA Warner           126\n",
       "6854    734047        V Sehwag           122"
      ]
     },
     "execution_count": 55,
     "metadata": {},
     "output_type": "execute_result"
    }
   ],
   "source": [
    "top_batsmen_scores"
   ]
  },
  {
   "cell_type": "code",
   "execution_count": 57,
   "id": "0ebc356c",
   "metadata": {},
   "outputs": [],
   "source": [
    "ball_faced = ipl2.groupby(['id','batsman']).apply(lambda x : x['batsman_runs'].count()).reset_index(name='Balls Faced')"
   ]
  },
  {
   "cell_type": "code",
   "execution_count": 58,
   "id": "ec08c5cd",
   "metadata": {
    "scrolled": true
   },
   "outputs": [
    {
     "data": {
      "text/html": [
       "<div>\n",
       "<style scoped>\n",
       "    .dataframe tbody tr th:only-of-type {\n",
       "        vertical-align: middle;\n",
       "    }\n",
       "\n",
       "    .dataframe tbody tr th {\n",
       "        vertical-align: top;\n",
       "    }\n",
       "\n",
       "    .dataframe thead th {\n",
       "        text-align: right;\n",
       "    }\n",
       "</style>\n",
       "<table border=\"1\" class=\"dataframe\">\n",
       "  <thead>\n",
       "    <tr style=\"text-align: right;\">\n",
       "      <th></th>\n",
       "      <th>id</th>\n",
       "      <th>batsman</th>\n",
       "      <th>Balls Faced</th>\n",
       "    </tr>\n",
       "  </thead>\n",
       "  <tbody>\n",
       "    <tr>\n",
       "      <th>0</th>\n",
       "      <td>335982</td>\n",
       "      <td>AA Noffke</td>\n",
       "      <td>12</td>\n",
       "    </tr>\n",
       "    <tr>\n",
       "      <th>1</th>\n",
       "      <td>335982</td>\n",
       "      <td>B Akhil</td>\n",
       "      <td>2</td>\n",
       "    </tr>\n",
       "    <tr>\n",
       "      <th>2</th>\n",
       "      <td>335982</td>\n",
       "      <td>BB McCullum</td>\n",
       "      <td>77</td>\n",
       "    </tr>\n",
       "    <tr>\n",
       "      <th>3</th>\n",
       "      <td>335982</td>\n",
       "      <td>CL White</td>\n",
       "      <td>10</td>\n",
       "    </tr>\n",
       "    <tr>\n",
       "      <th>4</th>\n",
       "      <td>335982</td>\n",
       "      <td>DJ Hussey</td>\n",
       "      <td>12</td>\n",
       "    </tr>\n",
       "    <tr>\n",
       "      <th>...</th>\n",
       "      <td>...</td>\n",
       "      <td>...</td>\n",
       "      <td>...</td>\n",
       "    </tr>\n",
       "    <tr>\n",
       "      <th>12157</th>\n",
       "      <td>1237181</td>\n",
       "      <td>RR Pant</td>\n",
       "      <td>40</td>\n",
       "    </tr>\n",
       "    <tr>\n",
       "      <th>12158</th>\n",
       "      <td>1237181</td>\n",
       "      <td>S Dhawan</td>\n",
       "      <td>13</td>\n",
       "    </tr>\n",
       "    <tr>\n",
       "      <th>12159</th>\n",
       "      <td>1237181</td>\n",
       "      <td>SA Yadav</td>\n",
       "      <td>20</td>\n",
       "    </tr>\n",
       "    <tr>\n",
       "      <th>12160</th>\n",
       "      <td>1237181</td>\n",
       "      <td>SO Hetmyer</td>\n",
       "      <td>5</td>\n",
       "    </tr>\n",
       "    <tr>\n",
       "      <th>12161</th>\n",
       "      <td>1237181</td>\n",
       "      <td>SS Iyer</td>\n",
       "      <td>51</td>\n",
       "    </tr>\n",
       "  </tbody>\n",
       "</table>\n",
       "<p>12162 rows × 3 columns</p>\n",
       "</div>"
      ],
      "text/plain": [
       "            id      batsman  Balls Faced\n",
       "0       335982    AA Noffke           12\n",
       "1       335982      B Akhil            2\n",
       "2       335982  BB McCullum           77\n",
       "3       335982     CL White           10\n",
       "4       335982    DJ Hussey           12\n",
       "...        ...          ...          ...\n",
       "12157  1237181      RR Pant           40\n",
       "12158  1237181     S Dhawan           13\n",
       "12159  1237181     SA Yadav           20\n",
       "12160  1237181   SO Hetmyer            5\n",
       "12161  1237181      SS Iyer           51\n",
       "\n",
       "[12162 rows x 3 columns]"
      ]
     },
     "execution_count": 58,
     "metadata": {},
     "output_type": "execute_result"
    }
   ],
   "source": [
    "ball_faced"
   ]
  },
  {
   "cell_type": "code",
   "execution_count": 68,
   "id": "6e386747",
   "metadata": {},
   "outputs": [],
   "source": [
    "### count of batsman_runs is done as no of times a battsman gets some run either 0 or 1 or 2 or 6 or 4 etc \n",
    "### is the no of balls faced by the batsman."
   ]
  },
  {
   "cell_type": "code",
   "execution_count": 69,
   "id": "af48ae43",
   "metadata": {},
   "outputs": [],
   "source": [
    "batsmen_performance = pd.merge(top_batsmen_scores, ball_faced, how='inner', left_on=['id','batsman'], right_on=['id','batsman'])"
   ]
  },
  {
   "cell_type": "code",
   "execution_count": 70,
   "id": "e6bdd494",
   "metadata": {},
   "outputs": [
    {
     "data": {
      "text/html": [
       "<div>\n",
       "<style scoped>\n",
       "    .dataframe tbody tr th:only-of-type {\n",
       "        vertical-align: middle;\n",
       "    }\n",
       "\n",
       "    .dataframe tbody tr th {\n",
       "        vertical-align: top;\n",
       "    }\n",
       "\n",
       "    .dataframe thead th {\n",
       "        text-align: right;\n",
       "    }\n",
       "</style>\n",
       "<table border=\"1\" class=\"dataframe\">\n",
       "  <thead>\n",
       "    <tr style=\"text-align: right;\">\n",
       "      <th></th>\n",
       "      <th>id</th>\n",
       "      <th>batsman</th>\n",
       "      <th>Innings Runs</th>\n",
       "      <th>Balls Faced</th>\n",
       "    </tr>\n",
       "  </thead>\n",
       "  <tbody>\n",
       "    <tr>\n",
       "      <th>0</th>\n",
       "      <td>598027</td>\n",
       "      <td>CH Gayle</td>\n",
       "      <td>175</td>\n",
       "      <td>69</td>\n",
       "    </tr>\n",
       "    <tr>\n",
       "      <th>1</th>\n",
       "      <td>335982</td>\n",
       "      <td>BB McCullum</td>\n",
       "      <td>158</td>\n",
       "      <td>77</td>\n",
       "    </tr>\n",
       "    <tr>\n",
       "      <th>2</th>\n",
       "      <td>829795</td>\n",
       "      <td>AB de Villiers</td>\n",
       "      <td>133</td>\n",
       "      <td>61</td>\n",
       "    </tr>\n",
       "    <tr>\n",
       "      <th>3</th>\n",
       "      <td>1216510</td>\n",
       "      <td>KL Rahul</td>\n",
       "      <td>132</td>\n",
       "      <td>70</td>\n",
       "    </tr>\n",
       "    <tr>\n",
       "      <th>4</th>\n",
       "      <td>980987</td>\n",
       "      <td>AB de Villiers</td>\n",
       "      <td>129</td>\n",
       "      <td>53</td>\n",
       "    </tr>\n",
       "    <tr>\n",
       "      <th>5</th>\n",
       "      <td>548372</td>\n",
       "      <td>CH Gayle</td>\n",
       "      <td>128</td>\n",
       "      <td>62</td>\n",
       "    </tr>\n",
       "    <tr>\n",
       "      <th>6</th>\n",
       "      <td>1136602</td>\n",
       "      <td>RR Pant</td>\n",
       "      <td>128</td>\n",
       "      <td>64</td>\n",
       "    </tr>\n",
       "    <tr>\n",
       "      <th>7</th>\n",
       "      <td>419137</td>\n",
       "      <td>M Vijay</td>\n",
       "      <td>127</td>\n",
       "      <td>57</td>\n",
       "    </tr>\n",
       "    <tr>\n",
       "      <th>8</th>\n",
       "      <td>1082627</td>\n",
       "      <td>DA Warner</td>\n",
       "      <td>126</td>\n",
       "      <td>60</td>\n",
       "    </tr>\n",
       "    <tr>\n",
       "      <th>9</th>\n",
       "      <td>734047</td>\n",
       "      <td>V Sehwag</td>\n",
       "      <td>122</td>\n",
       "      <td>62</td>\n",
       "    </tr>\n",
       "  </tbody>\n",
       "</table>\n",
       "</div>"
      ],
      "text/plain": [
       "        id         batsman  Innings Runs  Balls Faced\n",
       "0   598027        CH Gayle           175           69\n",
       "1   335982     BB McCullum           158           77\n",
       "2   829795  AB de Villiers           133           61\n",
       "3  1216510        KL Rahul           132           70\n",
       "4   980987  AB de Villiers           129           53\n",
       "5   548372        CH Gayle           128           62\n",
       "6  1136602         RR Pant           128           64\n",
       "7   419137         M Vijay           127           57\n",
       "8  1082627       DA Warner           126           60\n",
       "9   734047        V Sehwag           122           62"
      ]
     },
     "execution_count": 70,
     "metadata": {},
     "output_type": "execute_result"
    }
   ],
   "source": [
    "batsmen_performance"
   ]
  },
  {
   "cell_type": "code",
   "execution_count": 71,
   "id": "7db23d4f",
   "metadata": {},
   "outputs": [
    {
     "data": {
      "text/html": [
       "<div>\n",
       "<style scoped>\n",
       "    .dataframe tbody tr th:only-of-type {\n",
       "        vertical-align: middle;\n",
       "    }\n",
       "\n",
       "    .dataframe tbody tr th {\n",
       "        vertical-align: top;\n",
       "    }\n",
       "\n",
       "    .dataframe thead th {\n",
       "        text-align: right;\n",
       "    }\n",
       "</style>\n",
       "<table border=\"1\" class=\"dataframe\">\n",
       "  <thead>\n",
       "    <tr style=\"text-align: right;\">\n",
       "      <th></th>\n",
       "      <th>id</th>\n",
       "      <th>batsman</th>\n",
       "      <th>Innings Runs</th>\n",
       "    </tr>\n",
       "  </thead>\n",
       "  <tbody>\n",
       "    <tr>\n",
       "      <th>5302</th>\n",
       "      <td>598027</td>\n",
       "      <td>CH Gayle</td>\n",
       "      <td>175</td>\n",
       "    </tr>\n",
       "    <tr>\n",
       "      <th>2</th>\n",
       "      <td>335982</td>\n",
       "      <td>BB McCullum</td>\n",
       "      <td>158</td>\n",
       "    </tr>\n",
       "    <tr>\n",
       "      <th>7528</th>\n",
       "      <td>829795</td>\n",
       "      <td>AB de Villiers</td>\n",
       "      <td>133</td>\n",
       "    </tr>\n",
       "    <tr>\n",
       "      <th>11583</th>\n",
       "      <td>1216510</td>\n",
       "      <td>KL Rahul</td>\n",
       "      <td>132</td>\n",
       "    </tr>\n",
       "    <tr>\n",
       "      <th>8359</th>\n",
       "      <td>980987</td>\n",
       "      <td>AB de Villiers</td>\n",
       "      <td>129</td>\n",
       "    </tr>\n",
       "    <tr>\n",
       "      <th>4687</th>\n",
       "      <td>548372</td>\n",
       "      <td>CH Gayle</td>\n",
       "      <td>128</td>\n",
       "    </tr>\n",
       "    <tr>\n",
       "      <th>10149</th>\n",
       "      <td>1136602</td>\n",
       "      <td>RR Pant</td>\n",
       "      <td>128</td>\n",
       "    </tr>\n",
       "    <tr>\n",
       "      <th>2237</th>\n",
       "      <td>419137</td>\n",
       "      <td>M Vijay</td>\n",
       "      <td>127</td>\n",
       "    </tr>\n",
       "    <tr>\n",
       "      <th>9146</th>\n",
       "      <td>1082627</td>\n",
       "      <td>DA Warner</td>\n",
       "      <td>126</td>\n",
       "    </tr>\n",
       "    <tr>\n",
       "      <th>6854</th>\n",
       "      <td>734047</td>\n",
       "      <td>V Sehwag</td>\n",
       "      <td>122</td>\n",
       "    </tr>\n",
       "  </tbody>\n",
       "</table>\n",
       "</div>"
      ],
      "text/plain": [
       "            id         batsman  Innings Runs\n",
       "5302    598027        CH Gayle           175\n",
       "2       335982     BB McCullum           158\n",
       "7528    829795  AB de Villiers           133\n",
       "11583  1216510        KL Rahul           132\n",
       "8359    980987  AB de Villiers           129\n",
       "4687    548372        CH Gayle           128\n",
       "10149  1136602         RR Pant           128\n",
       "2237    419137         M Vijay           127\n",
       "9146   1082627       DA Warner           126\n",
       "6854    734047        V Sehwag           122"
      ]
     },
     "execution_count": 71,
     "metadata": {},
     "output_type": "execute_result"
    }
   ],
   "source": [
    "top_batsmen_scores"
   ]
  },
  {
   "cell_type": "code",
   "execution_count": 72,
   "id": "eb247be2",
   "metadata": {},
   "outputs": [
    {
     "data": {
      "text/html": [
       "<div>\n",
       "<style scoped>\n",
       "    .dataframe tbody tr th:only-of-type {\n",
       "        vertical-align: middle;\n",
       "    }\n",
       "\n",
       "    .dataframe tbody tr th {\n",
       "        vertical-align: top;\n",
       "    }\n",
       "\n",
       "    .dataframe thead th {\n",
       "        text-align: right;\n",
       "    }\n",
       "</style>\n",
       "<table border=\"1\" class=\"dataframe\">\n",
       "  <thead>\n",
       "    <tr style=\"text-align: right;\">\n",
       "      <th></th>\n",
       "      <th>id</th>\n",
       "      <th>batsman</th>\n",
       "      <th>Balls Faced</th>\n",
       "    </tr>\n",
       "  </thead>\n",
       "  <tbody>\n",
       "    <tr>\n",
       "      <th>0</th>\n",
       "      <td>335982</td>\n",
       "      <td>AA Noffke</td>\n",
       "      <td>12</td>\n",
       "    </tr>\n",
       "    <tr>\n",
       "      <th>1</th>\n",
       "      <td>335982</td>\n",
       "      <td>B Akhil</td>\n",
       "      <td>2</td>\n",
       "    </tr>\n",
       "    <tr>\n",
       "      <th>2</th>\n",
       "      <td>335982</td>\n",
       "      <td>BB McCullum</td>\n",
       "      <td>77</td>\n",
       "    </tr>\n",
       "    <tr>\n",
       "      <th>3</th>\n",
       "      <td>335982</td>\n",
       "      <td>CL White</td>\n",
       "      <td>10</td>\n",
       "    </tr>\n",
       "    <tr>\n",
       "      <th>4</th>\n",
       "      <td>335982</td>\n",
       "      <td>DJ Hussey</td>\n",
       "      <td>12</td>\n",
       "    </tr>\n",
       "    <tr>\n",
       "      <th>...</th>\n",
       "      <td>...</td>\n",
       "      <td>...</td>\n",
       "      <td>...</td>\n",
       "    </tr>\n",
       "    <tr>\n",
       "      <th>12157</th>\n",
       "      <td>1237181</td>\n",
       "      <td>RR Pant</td>\n",
       "      <td>40</td>\n",
       "    </tr>\n",
       "    <tr>\n",
       "      <th>12158</th>\n",
       "      <td>1237181</td>\n",
       "      <td>S Dhawan</td>\n",
       "      <td>13</td>\n",
       "    </tr>\n",
       "    <tr>\n",
       "      <th>12159</th>\n",
       "      <td>1237181</td>\n",
       "      <td>SA Yadav</td>\n",
       "      <td>20</td>\n",
       "    </tr>\n",
       "    <tr>\n",
       "      <th>12160</th>\n",
       "      <td>1237181</td>\n",
       "      <td>SO Hetmyer</td>\n",
       "      <td>5</td>\n",
       "    </tr>\n",
       "    <tr>\n",
       "      <th>12161</th>\n",
       "      <td>1237181</td>\n",
       "      <td>SS Iyer</td>\n",
       "      <td>51</td>\n",
       "    </tr>\n",
       "  </tbody>\n",
       "</table>\n",
       "<p>12162 rows × 3 columns</p>\n",
       "</div>"
      ],
      "text/plain": [
       "            id      batsman  Balls Faced\n",
       "0       335982    AA Noffke           12\n",
       "1       335982      B Akhil            2\n",
       "2       335982  BB McCullum           77\n",
       "3       335982     CL White           10\n",
       "4       335982    DJ Hussey           12\n",
       "...        ...          ...          ...\n",
       "12157  1237181      RR Pant           40\n",
       "12158  1237181     S Dhawan           13\n",
       "12159  1237181     SA Yadav           20\n",
       "12160  1237181   SO Hetmyer            5\n",
       "12161  1237181      SS Iyer           51\n",
       "\n",
       "[12162 rows x 3 columns]"
      ]
     },
     "execution_count": 72,
     "metadata": {},
     "output_type": "execute_result"
    }
   ],
   "source": [
    "ball_faced"
   ]
  },
  {
   "cell_type": "code",
   "execution_count": 73,
   "id": "bf283d45",
   "metadata": {},
   "outputs": [],
   "source": [
    "### merged the 2 above tables by joins(inner join) into 1 table by batsmen_performance."
   ]
  },
  {
   "cell_type": "code",
   "execution_count": 74,
   "id": "e2a6cad6",
   "metadata": {},
   "outputs": [],
   "source": [
    "batsmen_performance['Strike Rate for Match'] = batsmen_performance['Innings Runs']*100 / batsmen_performance['Balls Faced']"
   ]
  },
  {
   "cell_type": "code",
   "execution_count": 75,
   "id": "187a887e",
   "metadata": {},
   "outputs": [],
   "source": [
    "## Adding a new column ."
   ]
  },
  {
   "cell_type": "code",
   "execution_count": 77,
   "id": "f848b46c",
   "metadata": {},
   "outputs": [],
   "source": [
    "batsmen_innings = pd.merge(batsmen_performance, ipl2, how='inner',left_on=['id','batsman'],right_on=['id','batsman'])"
   ]
  },
  {
   "cell_type": "code",
   "execution_count": 78,
   "id": "f88cc97c",
   "metadata": {},
   "outputs": [
    {
     "data": {
      "text/html": [
       "<div>\n",
       "<style scoped>\n",
       "    .dataframe tbody tr th:only-of-type {\n",
       "        vertical-align: middle;\n",
       "    }\n",
       "\n",
       "    .dataframe tbody tr th {\n",
       "        vertical-align: top;\n",
       "    }\n",
       "\n",
       "    .dataframe thead th {\n",
       "        text-align: right;\n",
       "    }\n",
       "</style>\n",
       "<table border=\"1\" class=\"dataframe\">\n",
       "  <thead>\n",
       "    <tr style=\"text-align: right;\">\n",
       "      <th></th>\n",
       "      <th>id</th>\n",
       "      <th>batsman</th>\n",
       "      <th>Innings Runs</th>\n",
       "      <th>Balls Faced</th>\n",
       "      <th>Strike Rate for Match</th>\n",
       "      <th>inning</th>\n",
       "      <th>over</th>\n",
       "      <th>ball</th>\n",
       "      <th>non_striker</th>\n",
       "      <th>bowler</th>\n",
       "      <th>...</th>\n",
       "      <th>extra_runs</th>\n",
       "      <th>total_runs</th>\n",
       "      <th>non_boundary</th>\n",
       "      <th>is_wicket</th>\n",
       "      <th>dismissal_kind</th>\n",
       "      <th>player_dismissed</th>\n",
       "      <th>fielder</th>\n",
       "      <th>extras_type</th>\n",
       "      <th>batting_team</th>\n",
       "      <th>bowling_team</th>\n",
       "    </tr>\n",
       "  </thead>\n",
       "  <tbody>\n",
       "    <tr>\n",
       "      <th>0</th>\n",
       "      <td>598027</td>\n",
       "      <td>CH Gayle</td>\n",
       "      <td>175</td>\n",
       "      <td>69</td>\n",
       "      <td>253.623188</td>\n",
       "      <td>1</td>\n",
       "      <td>19</td>\n",
       "      <td>1</td>\n",
       "      <td>SS Tiwary</td>\n",
       "      <td>AB Dinda</td>\n",
       "      <td>...</td>\n",
       "      <td>0</td>\n",
       "      <td>6</td>\n",
       "      <td>0</td>\n",
       "      <td>0</td>\n",
       "      <td>NaN</td>\n",
       "      <td>NaN</td>\n",
       "      <td>NaN</td>\n",
       "      <td>NaN</td>\n",
       "      <td>Royal Challengers Bangalore</td>\n",
       "      <td>Pune Warriors</td>\n",
       "    </tr>\n",
       "    <tr>\n",
       "      <th>1</th>\n",
       "      <td>598027</td>\n",
       "      <td>CH Gayle</td>\n",
       "      <td>175</td>\n",
       "      <td>69</td>\n",
       "      <td>253.623188</td>\n",
       "      <td>1</td>\n",
       "      <td>19</td>\n",
       "      <td>2</td>\n",
       "      <td>SS Tiwary</td>\n",
       "      <td>AB Dinda</td>\n",
       "      <td>...</td>\n",
       "      <td>0</td>\n",
       "      <td>1</td>\n",
       "      <td>0</td>\n",
       "      <td>0</td>\n",
       "      <td>NaN</td>\n",
       "      <td>NaN</td>\n",
       "      <td>NaN</td>\n",
       "      <td>NaN</td>\n",
       "      <td>Royal Challengers Bangalore</td>\n",
       "      <td>Pune Warriors</td>\n",
       "    </tr>\n",
       "    <tr>\n",
       "      <th>2</th>\n",
       "      <td>598027</td>\n",
       "      <td>CH Gayle</td>\n",
       "      <td>175</td>\n",
       "      <td>69</td>\n",
       "      <td>253.623188</td>\n",
       "      <td>1</td>\n",
       "      <td>19</td>\n",
       "      <td>5</td>\n",
       "      <td>R Rampaul</td>\n",
       "      <td>AB Dinda</td>\n",
       "      <td>...</td>\n",
       "      <td>0</td>\n",
       "      <td>1</td>\n",
       "      <td>0</td>\n",
       "      <td>0</td>\n",
       "      <td>NaN</td>\n",
       "      <td>NaN</td>\n",
       "      <td>NaN</td>\n",
       "      <td>NaN</td>\n",
       "      <td>Royal Challengers Bangalore</td>\n",
       "      <td>Pune Warriors</td>\n",
       "    </tr>\n",
       "    <tr>\n",
       "      <th>3</th>\n",
       "      <td>598027</td>\n",
       "      <td>CH Gayle</td>\n",
       "      <td>175</td>\n",
       "      <td>69</td>\n",
       "      <td>253.623188</td>\n",
       "      <td>1</td>\n",
       "      <td>11</td>\n",
       "      <td>7</td>\n",
       "      <td>TM Dilshan</td>\n",
       "      <td>LJ Wright</td>\n",
       "      <td>...</td>\n",
       "      <td>1</td>\n",
       "      <td>1</td>\n",
       "      <td>0</td>\n",
       "      <td>0</td>\n",
       "      <td>NaN</td>\n",
       "      <td>NaN</td>\n",
       "      <td>NaN</td>\n",
       "      <td>wides</td>\n",
       "      <td>Royal Challengers Bangalore</td>\n",
       "      <td>Pune Warriors</td>\n",
       "    </tr>\n",
       "    <tr>\n",
       "      <th>4</th>\n",
       "      <td>598027</td>\n",
       "      <td>CH Gayle</td>\n",
       "      <td>175</td>\n",
       "      <td>69</td>\n",
       "      <td>253.623188</td>\n",
       "      <td>1</td>\n",
       "      <td>11</td>\n",
       "      <td>8</td>\n",
       "      <td>TM Dilshan</td>\n",
       "      <td>LJ Wright</td>\n",
       "      <td>...</td>\n",
       "      <td>1</td>\n",
       "      <td>1</td>\n",
       "      <td>0</td>\n",
       "      <td>0</td>\n",
       "      <td>NaN</td>\n",
       "      <td>NaN</td>\n",
       "      <td>NaN</td>\n",
       "      <td>legbyes</td>\n",
       "      <td>Royal Challengers Bangalore</td>\n",
       "      <td>Pune Warriors</td>\n",
       "    </tr>\n",
       "    <tr>\n",
       "      <th>...</th>\n",
       "      <td>...</td>\n",
       "      <td>...</td>\n",
       "      <td>...</td>\n",
       "      <td>...</td>\n",
       "      <td>...</td>\n",
       "      <td>...</td>\n",
       "      <td>...</td>\n",
       "      <td>...</td>\n",
       "      <td>...</td>\n",
       "      <td>...</td>\n",
       "      <td>...</td>\n",
       "      <td>...</td>\n",
       "      <td>...</td>\n",
       "      <td>...</td>\n",
       "      <td>...</td>\n",
       "      <td>...</td>\n",
       "      <td>...</td>\n",
       "      <td>...</td>\n",
       "      <td>...</td>\n",
       "      <td>...</td>\n",
       "      <td>...</td>\n",
       "    </tr>\n",
       "    <tr>\n",
       "      <th>630</th>\n",
       "      <td>734047</td>\n",
       "      <td>V Sehwag</td>\n",
       "      <td>122</td>\n",
       "      <td>62</td>\n",
       "      <td>196.774194</td>\n",
       "      <td>1</td>\n",
       "      <td>17</td>\n",
       "      <td>3</td>\n",
       "      <td>DA Miller</td>\n",
       "      <td>RA Jadeja</td>\n",
       "      <td>...</td>\n",
       "      <td>0</td>\n",
       "      <td>4</td>\n",
       "      <td>0</td>\n",
       "      <td>0</td>\n",
       "      <td>NaN</td>\n",
       "      <td>NaN</td>\n",
       "      <td>NaN</td>\n",
       "      <td>NaN</td>\n",
       "      <td>Kings XI Punjab</td>\n",
       "      <td>Chennai Super Kings</td>\n",
       "    </tr>\n",
       "    <tr>\n",
       "      <th>631</th>\n",
       "      <td>734047</td>\n",
       "      <td>V Sehwag</td>\n",
       "      <td>122</td>\n",
       "      <td>62</td>\n",
       "      <td>196.774194</td>\n",
       "      <td>1</td>\n",
       "      <td>17</td>\n",
       "      <td>4</td>\n",
       "      <td>DA Miller</td>\n",
       "      <td>RA Jadeja</td>\n",
       "      <td>...</td>\n",
       "      <td>0</td>\n",
       "      <td>6</td>\n",
       "      <td>0</td>\n",
       "      <td>0</td>\n",
       "      <td>NaN</td>\n",
       "      <td>NaN</td>\n",
       "      <td>NaN</td>\n",
       "      <td>NaN</td>\n",
       "      <td>Kings XI Punjab</td>\n",
       "      <td>Chennai Super Kings</td>\n",
       "    </tr>\n",
       "    <tr>\n",
       "      <th>632</th>\n",
       "      <td>734047</td>\n",
       "      <td>V Sehwag</td>\n",
       "      <td>122</td>\n",
       "      <td>62</td>\n",
       "      <td>196.774194</td>\n",
       "      <td>1</td>\n",
       "      <td>17</td>\n",
       "      <td>5</td>\n",
       "      <td>DA Miller</td>\n",
       "      <td>RA Jadeja</td>\n",
       "      <td>...</td>\n",
       "      <td>0</td>\n",
       "      <td>0</td>\n",
       "      <td>0</td>\n",
       "      <td>0</td>\n",
       "      <td>NaN</td>\n",
       "      <td>NaN</td>\n",
       "      <td>NaN</td>\n",
       "      <td>NaN</td>\n",
       "      <td>Kings XI Punjab</td>\n",
       "      <td>Chennai Super Kings</td>\n",
       "    </tr>\n",
       "    <tr>\n",
       "      <th>633</th>\n",
       "      <td>734047</td>\n",
       "      <td>V Sehwag</td>\n",
       "      <td>122</td>\n",
       "      <td>62</td>\n",
       "      <td>196.774194</td>\n",
       "      <td>1</td>\n",
       "      <td>17</td>\n",
       "      <td>6</td>\n",
       "      <td>DA Miller</td>\n",
       "      <td>RA Jadeja</td>\n",
       "      <td>...</td>\n",
       "      <td>0</td>\n",
       "      <td>1</td>\n",
       "      <td>0</td>\n",
       "      <td>0</td>\n",
       "      <td>NaN</td>\n",
       "      <td>NaN</td>\n",
       "      <td>NaN</td>\n",
       "      <td>NaN</td>\n",
       "      <td>Kings XI Punjab</td>\n",
       "      <td>Chennai Super Kings</td>\n",
       "    </tr>\n",
       "    <tr>\n",
       "      <th>634</th>\n",
       "      <td>734047</td>\n",
       "      <td>V Sehwag</td>\n",
       "      <td>122</td>\n",
       "      <td>62</td>\n",
       "      <td>196.774194</td>\n",
       "      <td>1</td>\n",
       "      <td>18</td>\n",
       "      <td>1</td>\n",
       "      <td>DA Miller</td>\n",
       "      <td>A Nehra</td>\n",
       "      <td>...</td>\n",
       "      <td>0</td>\n",
       "      <td>0</td>\n",
       "      <td>0</td>\n",
       "      <td>1</td>\n",
       "      <td>caught</td>\n",
       "      <td>V Sehwag</td>\n",
       "      <td>F du Plessis</td>\n",
       "      <td>NaN</td>\n",
       "      <td>Kings XI Punjab</td>\n",
       "      <td>Chennai Super Kings</td>\n",
       "    </tr>\n",
       "  </tbody>\n",
       "</table>\n",
       "<p>635 rows × 21 columns</p>\n",
       "</div>"
      ],
      "text/plain": [
       "         id   batsman  Innings Runs  Balls Faced  Strike Rate for Match  \\\n",
       "0    598027  CH Gayle           175           69             253.623188   \n",
       "1    598027  CH Gayle           175           69             253.623188   \n",
       "2    598027  CH Gayle           175           69             253.623188   \n",
       "3    598027  CH Gayle           175           69             253.623188   \n",
       "4    598027  CH Gayle           175           69             253.623188   \n",
       "..      ...       ...           ...          ...                    ...   \n",
       "630  734047  V Sehwag           122           62             196.774194   \n",
       "631  734047  V Sehwag           122           62             196.774194   \n",
       "632  734047  V Sehwag           122           62             196.774194   \n",
       "633  734047  V Sehwag           122           62             196.774194   \n",
       "634  734047  V Sehwag           122           62             196.774194   \n",
       "\n",
       "     inning  over  ball non_striker     bowler  ...  extra_runs  total_runs  \\\n",
       "0         1    19     1   SS Tiwary   AB Dinda  ...           0           6   \n",
       "1         1    19     2   SS Tiwary   AB Dinda  ...           0           1   \n",
       "2         1    19     5   R Rampaul   AB Dinda  ...           0           1   \n",
       "3         1    11     7  TM Dilshan  LJ Wright  ...           1           1   \n",
       "4         1    11     8  TM Dilshan  LJ Wright  ...           1           1   \n",
       "..      ...   ...   ...         ...        ...  ...         ...         ...   \n",
       "630       1    17     3   DA Miller  RA Jadeja  ...           0           4   \n",
       "631       1    17     4   DA Miller  RA Jadeja  ...           0           6   \n",
       "632       1    17     5   DA Miller  RA Jadeja  ...           0           0   \n",
       "633       1    17     6   DA Miller  RA Jadeja  ...           0           1   \n",
       "634       1    18     1   DA Miller    A Nehra  ...           0           0   \n",
       "\n",
       "     non_boundary  is_wicket  dismissal_kind player_dismissed       fielder  \\\n",
       "0               0          0             NaN              NaN           NaN   \n",
       "1               0          0             NaN              NaN           NaN   \n",
       "2               0          0             NaN              NaN           NaN   \n",
       "3               0          0             NaN              NaN           NaN   \n",
       "4               0          0             NaN              NaN           NaN   \n",
       "..            ...        ...             ...              ...           ...   \n",
       "630             0          0             NaN              NaN           NaN   \n",
       "631             0          0             NaN              NaN           NaN   \n",
       "632             0          0             NaN              NaN           NaN   \n",
       "633             0          0             NaN              NaN           NaN   \n",
       "634             0          1          caught         V Sehwag  F du Plessis   \n",
       "\n",
       "    extras_type                 batting_team         bowling_team  \n",
       "0           NaN  Royal Challengers Bangalore        Pune Warriors  \n",
       "1           NaN  Royal Challengers Bangalore        Pune Warriors  \n",
       "2           NaN  Royal Challengers Bangalore        Pune Warriors  \n",
       "3         wides  Royal Challengers Bangalore        Pune Warriors  \n",
       "4       legbyes  Royal Challengers Bangalore        Pune Warriors  \n",
       "..          ...                          ...                  ...  \n",
       "630         NaN              Kings XI Punjab  Chennai Super Kings  \n",
       "631         NaN              Kings XI Punjab  Chennai Super Kings  \n",
       "632         NaN              Kings XI Punjab  Chennai Super Kings  \n",
       "633         NaN              Kings XI Punjab  Chennai Super Kings  \n",
       "634         NaN              Kings XI Punjab  Chennai Super Kings  \n",
       "\n",
       "[635 rows x 21 columns]"
      ]
     },
     "execution_count": 78,
     "metadata": {},
     "output_type": "execute_result"
    }
   ],
   "source": [
    "batsmen_innings"
   ]
  },
  {
   "cell_type": "code",
   "execution_count": 79,
   "id": "f8f7382d",
   "metadata": {},
   "outputs": [],
   "source": [
    "batsmen_innings_table = batsmen_innings.iloc[:,1:8]"
   ]
  },
  {
   "cell_type": "code",
   "execution_count": 80,
   "id": "d413f13b",
   "metadata": {},
   "outputs": [
    {
     "data": {
      "text/html": [
       "<div>\n",
       "<style scoped>\n",
       "    .dataframe tbody tr th:only-of-type {\n",
       "        vertical-align: middle;\n",
       "    }\n",
       "\n",
       "    .dataframe tbody tr th {\n",
       "        vertical-align: top;\n",
       "    }\n",
       "\n",
       "    .dataframe thead th {\n",
       "        text-align: right;\n",
       "    }\n",
       "</style>\n",
       "<table border=\"1\" class=\"dataframe\">\n",
       "  <thead>\n",
       "    <tr style=\"text-align: right;\">\n",
       "      <th></th>\n",
       "      <th>batsman</th>\n",
       "      <th>Innings Runs</th>\n",
       "      <th>Balls Faced</th>\n",
       "      <th>Strike Rate for Match</th>\n",
       "      <th>inning</th>\n",
       "      <th>over</th>\n",
       "      <th>ball</th>\n",
       "    </tr>\n",
       "  </thead>\n",
       "  <tbody>\n",
       "    <tr>\n",
       "      <th>0</th>\n",
       "      <td>CH Gayle</td>\n",
       "      <td>175</td>\n",
       "      <td>69</td>\n",
       "      <td>253.623188</td>\n",
       "      <td>1</td>\n",
       "      <td>19</td>\n",
       "      <td>1</td>\n",
       "    </tr>\n",
       "    <tr>\n",
       "      <th>1</th>\n",
       "      <td>CH Gayle</td>\n",
       "      <td>175</td>\n",
       "      <td>69</td>\n",
       "      <td>253.623188</td>\n",
       "      <td>1</td>\n",
       "      <td>19</td>\n",
       "      <td>2</td>\n",
       "    </tr>\n",
       "    <tr>\n",
       "      <th>2</th>\n",
       "      <td>CH Gayle</td>\n",
       "      <td>175</td>\n",
       "      <td>69</td>\n",
       "      <td>253.623188</td>\n",
       "      <td>1</td>\n",
       "      <td>19</td>\n",
       "      <td>5</td>\n",
       "    </tr>\n",
       "    <tr>\n",
       "      <th>3</th>\n",
       "      <td>CH Gayle</td>\n",
       "      <td>175</td>\n",
       "      <td>69</td>\n",
       "      <td>253.623188</td>\n",
       "      <td>1</td>\n",
       "      <td>11</td>\n",
       "      <td>7</td>\n",
       "    </tr>\n",
       "    <tr>\n",
       "      <th>4</th>\n",
       "      <td>CH Gayle</td>\n",
       "      <td>175</td>\n",
       "      <td>69</td>\n",
       "      <td>253.623188</td>\n",
       "      <td>1</td>\n",
       "      <td>11</td>\n",
       "      <td>8</td>\n",
       "    </tr>\n",
       "    <tr>\n",
       "      <th>...</th>\n",
       "      <td>...</td>\n",
       "      <td>...</td>\n",
       "      <td>...</td>\n",
       "      <td>...</td>\n",
       "      <td>...</td>\n",
       "      <td>...</td>\n",
       "      <td>...</td>\n",
       "    </tr>\n",
       "    <tr>\n",
       "      <th>630</th>\n",
       "      <td>V Sehwag</td>\n",
       "      <td>122</td>\n",
       "      <td>62</td>\n",
       "      <td>196.774194</td>\n",
       "      <td>1</td>\n",
       "      <td>17</td>\n",
       "      <td>3</td>\n",
       "    </tr>\n",
       "    <tr>\n",
       "      <th>631</th>\n",
       "      <td>V Sehwag</td>\n",
       "      <td>122</td>\n",
       "      <td>62</td>\n",
       "      <td>196.774194</td>\n",
       "      <td>1</td>\n",
       "      <td>17</td>\n",
       "      <td>4</td>\n",
       "    </tr>\n",
       "    <tr>\n",
       "      <th>632</th>\n",
       "      <td>V Sehwag</td>\n",
       "      <td>122</td>\n",
       "      <td>62</td>\n",
       "      <td>196.774194</td>\n",
       "      <td>1</td>\n",
       "      <td>17</td>\n",
       "      <td>5</td>\n",
       "    </tr>\n",
       "    <tr>\n",
       "      <th>633</th>\n",
       "      <td>V Sehwag</td>\n",
       "      <td>122</td>\n",
       "      <td>62</td>\n",
       "      <td>196.774194</td>\n",
       "      <td>1</td>\n",
       "      <td>17</td>\n",
       "      <td>6</td>\n",
       "    </tr>\n",
       "    <tr>\n",
       "      <th>634</th>\n",
       "      <td>V Sehwag</td>\n",
       "      <td>122</td>\n",
       "      <td>62</td>\n",
       "      <td>196.774194</td>\n",
       "      <td>1</td>\n",
       "      <td>18</td>\n",
       "      <td>1</td>\n",
       "    </tr>\n",
       "  </tbody>\n",
       "</table>\n",
       "<p>635 rows × 7 columns</p>\n",
       "</div>"
      ],
      "text/plain": [
       "      batsman  Innings Runs  Balls Faced  Strike Rate for Match  inning  over  \\\n",
       "0    CH Gayle           175           69             253.623188       1    19   \n",
       "1    CH Gayle           175           69             253.623188       1    19   \n",
       "2    CH Gayle           175           69             253.623188       1    19   \n",
       "3    CH Gayle           175           69             253.623188       1    11   \n",
       "4    CH Gayle           175           69             253.623188       1    11   \n",
       "..        ...           ...          ...                    ...     ...   ...   \n",
       "630  V Sehwag           122           62             196.774194       1    17   \n",
       "631  V Sehwag           122           62             196.774194       1    17   \n",
       "632  V Sehwag           122           62             196.774194       1    17   \n",
       "633  V Sehwag           122           62             196.774194       1    17   \n",
       "634  V Sehwag           122           62             196.774194       1    18   \n",
       "\n",
       "     ball  \n",
       "0       1  \n",
       "1       2  \n",
       "2       5  \n",
       "3       7  \n",
       "4       8  \n",
       "..    ...  \n",
       "630     3  \n",
       "631     4  \n",
       "632     5  \n",
       "633     6  \n",
       "634     1  \n",
       "\n",
       "[635 rows x 7 columns]"
      ]
     },
     "execution_count": 80,
     "metadata": {},
     "output_type": "execute_result"
    }
   ],
   "source": [
    "batsmen_innings_table \n",
    "#Dataframe.iloc[] method is used when the index label of a data frame is something other than numeric series of 0, 1, 2, 3….n \n",
    "#or in case the user doesn’t know the index label.\n",
    "# In above case we used iloc[:,1:8] to get 8 columns leaving first column ."
   ]
  },
  {
   "cell_type": "code",
   "execution_count": 87,
   "id": "8dc6db68",
   "metadata": {},
   "outputs": [],
   "source": [
    "import pandas as pd\n",
    "batsmen_innings_table2 = batsmen_innings_table.drop_duplicates() ## to drop duplicates row in table above."
   ]
  },
  {
   "cell_type": "code",
   "execution_count": 88,
   "id": "9f73384f",
   "metadata": {},
   "outputs": [
    {
     "data": {
      "text/html": [
       "<div>\n",
       "<style scoped>\n",
       "    .dataframe tbody tr th:only-of-type {\n",
       "        vertical-align: middle;\n",
       "    }\n",
       "\n",
       "    .dataframe tbody tr th {\n",
       "        vertical-align: top;\n",
       "    }\n",
       "\n",
       "    .dataframe thead th {\n",
       "        text-align: right;\n",
       "    }\n",
       "</style>\n",
       "<table border=\"1\" class=\"dataframe\">\n",
       "  <thead>\n",
       "    <tr style=\"text-align: right;\">\n",
       "      <th></th>\n",
       "      <th>batsman</th>\n",
       "      <th>Innings Runs</th>\n",
       "      <th>Balls Faced</th>\n",
       "      <th>Strike Rate for Match</th>\n",
       "      <th>inning</th>\n",
       "      <th>over</th>\n",
       "      <th>ball</th>\n",
       "    </tr>\n",
       "  </thead>\n",
       "  <tbody>\n",
       "    <tr>\n",
       "      <th>0</th>\n",
       "      <td>CH Gayle</td>\n",
       "      <td>175</td>\n",
       "      <td>69</td>\n",
       "      <td>253.623188</td>\n",
       "      <td>1</td>\n",
       "      <td>19</td>\n",
       "      <td>1</td>\n",
       "    </tr>\n",
       "    <tr>\n",
       "      <th>1</th>\n",
       "      <td>CH Gayle</td>\n",
       "      <td>175</td>\n",
       "      <td>69</td>\n",
       "      <td>253.623188</td>\n",
       "      <td>1</td>\n",
       "      <td>19</td>\n",
       "      <td>2</td>\n",
       "    </tr>\n",
       "    <tr>\n",
       "      <th>2</th>\n",
       "      <td>CH Gayle</td>\n",
       "      <td>175</td>\n",
       "      <td>69</td>\n",
       "      <td>253.623188</td>\n",
       "      <td>1</td>\n",
       "      <td>19</td>\n",
       "      <td>5</td>\n",
       "    </tr>\n",
       "    <tr>\n",
       "      <th>3</th>\n",
       "      <td>CH Gayle</td>\n",
       "      <td>175</td>\n",
       "      <td>69</td>\n",
       "      <td>253.623188</td>\n",
       "      <td>1</td>\n",
       "      <td>11</td>\n",
       "      <td>7</td>\n",
       "    </tr>\n",
       "    <tr>\n",
       "      <th>4</th>\n",
       "      <td>CH Gayle</td>\n",
       "      <td>175</td>\n",
       "      <td>69</td>\n",
       "      <td>253.623188</td>\n",
       "      <td>1</td>\n",
       "      <td>11</td>\n",
       "      <td>8</td>\n",
       "    </tr>\n",
       "    <tr>\n",
       "      <th>...</th>\n",
       "      <td>...</td>\n",
       "      <td>...</td>\n",
       "      <td>...</td>\n",
       "      <td>...</td>\n",
       "      <td>...</td>\n",
       "      <td>...</td>\n",
       "      <td>...</td>\n",
       "    </tr>\n",
       "    <tr>\n",
       "      <th>630</th>\n",
       "      <td>V Sehwag</td>\n",
       "      <td>122</td>\n",
       "      <td>62</td>\n",
       "      <td>196.774194</td>\n",
       "      <td>1</td>\n",
       "      <td>17</td>\n",
       "      <td>3</td>\n",
       "    </tr>\n",
       "    <tr>\n",
       "      <th>631</th>\n",
       "      <td>V Sehwag</td>\n",
       "      <td>122</td>\n",
       "      <td>62</td>\n",
       "      <td>196.774194</td>\n",
       "      <td>1</td>\n",
       "      <td>17</td>\n",
       "      <td>4</td>\n",
       "    </tr>\n",
       "    <tr>\n",
       "      <th>632</th>\n",
       "      <td>V Sehwag</td>\n",
       "      <td>122</td>\n",
       "      <td>62</td>\n",
       "      <td>196.774194</td>\n",
       "      <td>1</td>\n",
       "      <td>17</td>\n",
       "      <td>5</td>\n",
       "    </tr>\n",
       "    <tr>\n",
       "      <th>633</th>\n",
       "      <td>V Sehwag</td>\n",
       "      <td>122</td>\n",
       "      <td>62</td>\n",
       "      <td>196.774194</td>\n",
       "      <td>1</td>\n",
       "      <td>17</td>\n",
       "      <td>6</td>\n",
       "    </tr>\n",
       "    <tr>\n",
       "      <th>634</th>\n",
       "      <td>V Sehwag</td>\n",
       "      <td>122</td>\n",
       "      <td>62</td>\n",
       "      <td>196.774194</td>\n",
       "      <td>1</td>\n",
       "      <td>18</td>\n",
       "      <td>1</td>\n",
       "    </tr>\n",
       "  </tbody>\n",
       "</table>\n",
       "<p>635 rows × 7 columns</p>\n",
       "</div>"
      ],
      "text/plain": [
       "      batsman  Innings Runs  Balls Faced  Strike Rate for Match  inning  over  \\\n",
       "0    CH Gayle           175           69             253.623188       1    19   \n",
       "1    CH Gayle           175           69             253.623188       1    19   \n",
       "2    CH Gayle           175           69             253.623188       1    19   \n",
       "3    CH Gayle           175           69             253.623188       1    11   \n",
       "4    CH Gayle           175           69             253.623188       1    11   \n",
       "..        ...           ...          ...                    ...     ...   ...   \n",
       "630  V Sehwag           122           62             196.774194       1    17   \n",
       "631  V Sehwag           122           62             196.774194       1    17   \n",
       "632  V Sehwag           122           62             196.774194       1    17   \n",
       "633  V Sehwag           122           62             196.774194       1    17   \n",
       "634  V Sehwag           122           62             196.774194       1    18   \n",
       "\n",
       "     ball  \n",
       "0       1  \n",
       "1       2  \n",
       "2       5  \n",
       "3       7  \n",
       "4       8  \n",
       "..    ...  \n",
       "630     3  \n",
       "631     4  \n",
       "632     5  \n",
       "633     6  \n",
       "634     1  \n",
       "\n",
       "[635 rows x 7 columns]"
      ]
     },
     "execution_count": 88,
     "metadata": {},
     "output_type": "execute_result"
    }
   ],
   "source": [
    "batsmen_innings_table2"
   ]
  },
  {
   "cell_type": "code",
   "execution_count": 83,
   "id": "c3362d94",
   "metadata": {},
   "outputs": [],
   "source": [
    "## there were no duplicates."
   ]
  },
  {
   "cell_type": "code",
   "execution_count": 89,
   "id": "08ebc01e",
   "metadata": {},
   "outputs": [
    {
     "data": {
      "image/png": "[encoded data removed]",
      "text/plain": [
       "<Figure size 864x432 with 1 Axes>"
      ]
     },
     "metadata": {
      "needs_background": "light"
     },
     "output_type": "display_data"
    }
   ],
   "source": [
    "## Draw a scatterplot\n",
    "x=batsmen_innings_table2['batsman']\n",
    "y1=batsmen_innings_table2['Innings Runs']\n",
    "plt.figure(figsize=(12,6))\n",
    "plt.scatter(x,y1)\n",
    "plt.xlabel('Batsmen',size=15)\n",
    "plt.ylabel('Innings Score',size=15)\n",
    "plt.title('IPL Best batting performances in an Inning')\n",
    "plt.xticks(rotation=60)\n",
    "plt.legend(['Runs']);"
   ]
  },
  {
   "cell_type": "code",
   "execution_count": 90,
   "id": "65513b33",
   "metadata": {},
   "outputs": [],
   "source": [
    "##Chris Gayle scored the maximum runs in a match followed by Brendon McCullum and AB de Villiers."
   ]
  },
  {
   "cell_type": "code",
   "execution_count": 91,
   "id": "dc392184",
   "metadata": {},
   "outputs": [],
   "source": [
    "##Maximum wickets taken by bowlers"
   ]
  },
  {
   "cell_type": "code",
   "execution_count": 92,
   "id": "c99f5999",
   "metadata": {},
   "outputs": [],
   "source": [
    "bowling_wickets = ipl2[ipl2['dismissal_kind']!='run out']"
   ]
  },
  {
   "cell_type": "code",
   "execution_count": 93,
   "id": "74aae8aa",
   "metadata": {},
   "outputs": [],
   "source": [
    "bowling_total = bowling_wickets.groupby('bowler').apply(lambda x : x['dismissal_kind'].dropna()).reset_index(name='Wickets')"
   ]
  },
  {
   "cell_type": "code",
   "execution_count": 94,
   "id": "f4fd143e",
   "metadata": {},
   "outputs": [
    {
     "data": {
      "text/html": [
       "<div>\n",
       "<style scoped>\n",
       "    .dataframe tbody tr th:only-of-type {\n",
       "        vertical-align: middle;\n",
       "    }\n",
       "\n",
       "    .dataframe tbody tr th {\n",
       "        vertical-align: top;\n",
       "    }\n",
       "\n",
       "    .dataframe thead th {\n",
       "        text-align: right;\n",
       "    }\n",
       "</style>\n",
       "<table border=\"1\" class=\"dataframe\">\n",
       "  <thead>\n",
       "    <tr style=\"text-align: right;\">\n",
       "      <th></th>\n",
       "      <th>bowler</th>\n",
       "      <th>level_1</th>\n",
       "      <th>Wickets</th>\n",
       "    </tr>\n",
       "  </thead>\n",
       "  <tbody>\n",
       "    <tr>\n",
       "      <th>0</th>\n",
       "      <td>A Ashish Reddy</td>\n",
       "      <td>66652</td>\n",
       "      <td>bowled</td>\n",
       "    </tr>\n",
       "    <tr>\n",
       "      <th>1</th>\n",
       "      <td>A Ashish Reddy</td>\n",
       "      <td>66657</td>\n",
       "      <td>caught</td>\n",
       "    </tr>\n",
       "    <tr>\n",
       "      <th>2</th>\n",
       "      <td>A Ashish Reddy</td>\n",
       "      <td>67823</td>\n",
       "      <td>caught</td>\n",
       "    </tr>\n",
       "    <tr>\n",
       "      <th>3</th>\n",
       "      <td>A Ashish Reddy</td>\n",
       "      <td>68326</td>\n",
       "      <td>caught</td>\n",
       "    </tr>\n",
       "    <tr>\n",
       "      <th>4</th>\n",
       "      <td>A Ashish Reddy</td>\n",
       "      <td>69158</td>\n",
       "      <td>caught</td>\n",
       "    </tr>\n",
       "    <tr>\n",
       "      <th>...</th>\n",
       "      <td>...</td>\n",
       "      <td>...</td>\n",
       "      <td>...</td>\n",
       "    </tr>\n",
       "    <tr>\n",
       "      <th>8597</th>\n",
       "      <td>Z Khan</td>\n",
       "      <td>140636</td>\n",
       "      <td>caught</td>\n",
       "    </tr>\n",
       "    <tr>\n",
       "      <th>8598</th>\n",
       "      <td>Z Khan</td>\n",
       "      <td>140648</td>\n",
       "      <td>caught</td>\n",
       "    </tr>\n",
       "    <tr>\n",
       "      <th>8599</th>\n",
       "      <td>Z Khan</td>\n",
       "      <td>148376</td>\n",
       "      <td>bowled</td>\n",
       "    </tr>\n",
       "    <tr>\n",
       "      <th>8600</th>\n",
       "      <td>Z Khan</td>\n",
       "      <td>148429</td>\n",
       "      <td>caught</td>\n",
       "    </tr>\n",
       "    <tr>\n",
       "      <th>8601</th>\n",
       "      <td>Z Khan</td>\n",
       "      <td>149401</td>\n",
       "      <td>caught</td>\n",
       "    </tr>\n",
       "  </tbody>\n",
       "</table>\n",
       "<p>8602 rows × 3 columns</p>\n",
       "</div>"
      ],
      "text/plain": [
       "              bowler  level_1 Wickets\n",
       "0     A Ashish Reddy    66652  bowled\n",
       "1     A Ashish Reddy    66657  caught\n",
       "2     A Ashish Reddy    67823  caught\n",
       "3     A Ashish Reddy    68326  caught\n",
       "4     A Ashish Reddy    69158  caught\n",
       "...              ...      ...     ...\n",
       "8597          Z Khan   140636  caught\n",
       "8598          Z Khan   140648  caught\n",
       "8599          Z Khan   148376  bowled\n",
       "8600          Z Khan   148429  caught\n",
       "8601          Z Khan   149401  caught\n",
       "\n",
       "[8602 rows x 3 columns]"
      ]
     },
     "execution_count": 94,
     "metadata": {},
     "output_type": "execute_result"
    }
   ],
   "source": [
    "bowling_total"
   ]
  },
  {
   "cell_type": "code",
   "execution_count": 97,
   "id": "8204ddc9",
   "metadata": {},
   "outputs": [
    {
     "data": {
      "text/plain": [
       "bowler     0\n",
       "level_1    0\n",
       "Wickets    0\n",
       "dtype: int64"
      ]
     },
     "execution_count": 97,
     "metadata": {},
     "output_type": "execute_result"
    }
   ],
   "source": [
    "bowling_total.isnull().sum() ##no null as dropna() used in previuos step"
   ]
  },
  {
   "cell_type": "code",
   "execution_count": 98,
   "id": "c6136c60",
   "metadata": {},
   "outputs": [],
   "source": [
    "bowling_wicket_count = bowling_total.groupby('bowler').count().reset_index()"
   ]
  },
  {
   "cell_type": "code",
   "execution_count": 99,
   "id": "3d400d8e",
   "metadata": {},
   "outputs": [],
   "source": [
    "bowling_top = bowling_wicket_count.sort_values(by='Wickets',ascending=False)"
   ]
  },
  {
   "cell_type": "code",
   "execution_count": 100,
   "id": "5ce3e304",
   "metadata": {},
   "outputs": [
    {
     "data": {
      "text/html": [
       "<div>\n",
       "<style scoped>\n",
       "    .dataframe tbody tr th:only-of-type {\n",
       "        vertical-align: middle;\n",
       "    }\n",
       "\n",
       "    .dataframe tbody tr th {\n",
       "        vertical-align: top;\n",
       "    }\n",
       "\n",
       "    .dataframe thead th {\n",
       "        text-align: right;\n",
       "    }\n",
       "</style>\n",
       "<table border=\"1\" class=\"dataframe\">\n",
       "  <thead>\n",
       "    <tr style=\"text-align: right;\">\n",
       "      <th></th>\n",
       "      <th>bowler</th>\n",
       "      <th>level_1</th>\n",
       "      <th>Wickets</th>\n",
       "    </tr>\n",
       "  </thead>\n",
       "  <tbody>\n",
       "    <tr>\n",
       "      <th>297</th>\n",
       "      <td>SL Malinga</td>\n",
       "      <td>170</td>\n",
       "      <td>170</td>\n",
       "    </tr>\n",
       "    <tr>\n",
       "      <th>5</th>\n",
       "      <td>A Mishra</td>\n",
       "      <td>160</td>\n",
       "      <td>160</td>\n",
       "    </tr>\n",
       "    <tr>\n",
       "      <th>235</th>\n",
       "      <td>PP Chawla</td>\n",
       "      <td>156</td>\n",
       "      <td>156</td>\n",
       "    </tr>\n",
       "    <tr>\n",
       "      <th>85</th>\n",
       "      <td>DJ Bravo</td>\n",
       "      <td>153</td>\n",
       "      <td>153</td>\n",
       "    </tr>\n",
       "    <tr>\n",
       "      <th>115</th>\n",
       "      <td>Harbhajan Singh</td>\n",
       "      <td>150</td>\n",
       "      <td>150</td>\n",
       "    </tr>\n",
       "    <tr>\n",
       "      <th>...</th>\n",
       "      <td>...</td>\n",
       "      <td>...</td>\n",
       "      <td>...</td>\n",
       "    </tr>\n",
       "    <tr>\n",
       "      <th>71</th>\n",
       "      <td>CJ McKay</td>\n",
       "      <td>1</td>\n",
       "      <td>1</td>\n",
       "    </tr>\n",
       "    <tr>\n",
       "      <th>234</th>\n",
       "      <td>PM Sarvesh Kumar</td>\n",
       "      <td>1</td>\n",
       "      <td>1</td>\n",
       "    </tr>\n",
       "    <tr>\n",
       "      <th>106</th>\n",
       "      <td>GH Vihari</td>\n",
       "      <td>1</td>\n",
       "      <td>1</td>\n",
       "    </tr>\n",
       "    <tr>\n",
       "      <th>335</th>\n",
       "      <td>TP Sudhindra</td>\n",
       "      <td>1</td>\n",
       "      <td>1</td>\n",
       "    </tr>\n",
       "    <tr>\n",
       "      <th>282</th>\n",
       "      <td>S Vidyut</td>\n",
       "      <td>1</td>\n",
       "      <td>1</td>\n",
       "    </tr>\n",
       "  </tbody>\n",
       "</table>\n",
       "<p>360 rows × 3 columns</p>\n",
       "</div>"
      ],
      "text/plain": [
       "               bowler  level_1  Wickets\n",
       "297        SL Malinga      170      170\n",
       "5            A Mishra      160      160\n",
       "235         PP Chawla      156      156\n",
       "85           DJ Bravo      153      153\n",
       "115   Harbhajan Singh      150      150\n",
       "..                ...      ...      ...\n",
       "71           CJ McKay        1        1\n",
       "234  PM Sarvesh Kumar        1        1\n",
       "106         GH Vihari        1        1\n",
       "335      TP Sudhindra        1        1\n",
       "282          S Vidyut        1        1\n",
       "\n",
       "[360 rows x 3 columns]"
      ]
     },
     "execution_count": 100,
     "metadata": {},
     "output_type": "execute_result"
    }
   ],
   "source": [
    "bowling_top"
   ]
  },
  {
   "cell_type": "code",
   "execution_count": 101,
   "id": "be7fa1ea",
   "metadata": {},
   "outputs": [
    {
     "data": {
      "text/html": [
       "<div>\n",
       "<style scoped>\n",
       "    .dataframe tbody tr th:only-of-type {\n",
       "        vertical-align: middle;\n",
       "    }\n",
       "\n",
       "    .dataframe tbody tr th {\n",
       "        vertical-align: top;\n",
       "    }\n",
       "\n",
       "    .dataframe thead th {\n",
       "        text-align: right;\n",
       "    }\n",
       "</style>\n",
       "<table border=\"1\" class=\"dataframe\">\n",
       "  <thead>\n",
       "    <tr style=\"text-align: right;\">\n",
       "      <th></th>\n",
       "      <th>bowler</th>\n",
       "      <th>Wickets</th>\n",
       "    </tr>\n",
       "  </thead>\n",
       "  <tbody>\n",
       "    <tr>\n",
       "      <th>297</th>\n",
       "      <td>SL Malinga</td>\n",
       "      <td>170</td>\n",
       "    </tr>\n",
       "    <tr>\n",
       "      <th>5</th>\n",
       "      <td>A Mishra</td>\n",
       "      <td>160</td>\n",
       "    </tr>\n",
       "    <tr>\n",
       "      <th>235</th>\n",
       "      <td>PP Chawla</td>\n",
       "      <td>156</td>\n",
       "    </tr>\n",
       "    <tr>\n",
       "      <th>85</th>\n",
       "      <td>DJ Bravo</td>\n",
       "      <td>153</td>\n",
       "    </tr>\n",
       "    <tr>\n",
       "      <th>115</th>\n",
       "      <td>Harbhajan Singh</td>\n",
       "      <td>150</td>\n",
       "    </tr>\n",
       "    <tr>\n",
       "      <th>240</th>\n",
       "      <td>R Ashwin</td>\n",
       "      <td>138</td>\n",
       "    </tr>\n",
       "    <tr>\n",
       "      <th>50</th>\n",
       "      <td>B Kumar</td>\n",
       "      <td>136</td>\n",
       "    </tr>\n",
       "    <tr>\n",
       "      <th>304</th>\n",
       "      <td>SP Narine</td>\n",
       "      <td>127</td>\n",
       "    </tr>\n",
       "    <tr>\n",
       "      <th>357</th>\n",
       "      <td>YS Chahal</td>\n",
       "      <td>121</td>\n",
       "    </tr>\n",
       "    <tr>\n",
       "      <th>338</th>\n",
       "      <td>UT Yadav</td>\n",
       "      <td>119</td>\n",
       "    </tr>\n",
       "  </tbody>\n",
       "</table>\n",
       "</div>"
      ],
      "text/plain": [
       "              bowler  Wickets\n",
       "297       SL Malinga      170\n",
       "5           A Mishra      160\n",
       "235        PP Chawla      156\n",
       "85          DJ Bravo      153\n",
       "115  Harbhajan Singh      150\n",
       "240         R Ashwin      138\n",
       "50           B Kumar      136\n",
       "304        SP Narine      127\n",
       "357        YS Chahal      121\n",
       "338         UT Yadav      119"
      ]
     },
     "execution_count": 101,
     "metadata": {},
     "output_type": "execute_result"
    }
   ],
   "source": [
    "top_bowlers = bowling_top.loc[:,['bowler','Wickets']][0:10]\n",
    "top_bowlers"
   ]
  },
  {
   "cell_type": "code",
   "execution_count": 102,
   "id": "88d8e397",
   "metadata": {},
   "outputs": [
    {
     "data": {
      "image/png": "[encoded data removed]",
      "text/plain": [
       "<Figure size 864x432 with 1 Axes>"
      ]
     },
     "metadata": {
      "needs_background": "light"
     },
     "output_type": "display_data"
    }
   ],
   "source": [
    "plt.figure(figsize=(12,6))\n",
    "plt.scatter(top_bowlers['bowler'],top_bowlers['Wickets'],color='r');\n",
    "plt.plot(top_bowlers['bowler'],top_bowlers['Wickets'],color='g');\n",
    "plt.xticks(rotation=60)\n",
    "plt.xlabel('Top 10 Bowlers')\n",
    "plt.ylabel('Wickets Taken')\n",
    "plt.title('Top 10 Bowlers');"
   ]
  },
  {
   "cell_type": "code",
   "execution_count": 103,
   "id": "455c57b8",
   "metadata": {},
   "outputs": [],
   "source": [
    "#sL Malinga has taken the maximum number(170) of wickets in the IPL, followed by A Mishra and PP Chawla."
   ]
  },
  {
   "cell_type": "code",
   "execution_count": 104,
   "id": "2a4ccd65",
   "metadata": {},
   "outputs": [],
   "source": [
    "## Matches played VS Matches Won"
   ]
  },
  {
   "cell_type": "code",
   "execution_count": 105,
   "id": "db163317",
   "metadata": {},
   "outputs": [],
   "source": [
    "matches_played=pd.concat([ipl['team1'],ipl['team2']]) ##concatenation"
   ]
  },
  {
   "cell_type": "code",
   "execution_count": 106,
   "id": "698a5db7",
   "metadata": {},
   "outputs": [],
   "source": [
    "matches_played=matches_played.value_counts().reset_index()"
   ]
  },
  {
   "cell_type": "code",
   "execution_count": 107,
   "id": "7475f235",
   "metadata": {},
   "outputs": [],
   "source": [
    "matches_played.columns=['Team','Total Matches']"
   ]
  },
  {
   "cell_type": "code",
   "execution_count": 108,
   "id": "0818faa6",
   "metadata": {},
   "outputs": [],
   "source": [
    "matches_played['wins']=ipl['winner'].value_counts().reset_index()['winner']"
   ]
  },
  {
   "cell_type": "code",
   "execution_count": 109,
   "id": "03f3c258",
   "metadata": {},
   "outputs": [],
   "source": [
    "matches_played.set_index('Team',inplace=True) ## based on teams name index is set permanently"
   ]
  },
  {
   "cell_type": "code",
   "execution_count": 110,
   "id": "26865bad",
   "metadata": {},
   "outputs": [
    {
     "data": {
      "text/html": [
       "<div>\n",
       "<style scoped>\n",
       "    .dataframe tbody tr th:only-of-type {\n",
       "        vertical-align: middle;\n",
       "    }\n",
       "\n",
       "    .dataframe tbody tr th {\n",
       "        vertical-align: top;\n",
       "    }\n",
       "\n",
       "    .dataframe thead th {\n",
       "        text-align: right;\n",
       "    }\n",
       "</style>\n",
       "<table border=\"1\" class=\"dataframe\">\n",
       "  <thead>\n",
       "    <tr style=\"text-align: right;\">\n",
       "      <th></th>\n",
       "      <th>Team</th>\n",
       "      <th>Total Matches</th>\n",
       "      <th>wins</th>\n",
       "    </tr>\n",
       "  </thead>\n",
       "  <tbody>\n",
       "    <tr>\n",
       "      <th>0</th>\n",
       "      <td>Mumbai Indians</td>\n",
       "      <td>203</td>\n",
       "      <td>120</td>\n",
       "    </tr>\n",
       "    <tr>\n",
       "      <th>1</th>\n",
       "      <td>Royal Challengers Bangalore</td>\n",
       "      <td>195</td>\n",
       "      <td>106</td>\n",
       "    </tr>\n",
       "    <tr>\n",
       "      <th>2</th>\n",
       "      <td>Kolkata Knight Riders</td>\n",
       "      <td>192</td>\n",
       "      <td>99</td>\n",
       "    </tr>\n",
       "    <tr>\n",
       "      <th>3</th>\n",
       "      <td>Kings XI Punjab</td>\n",
       "      <td>190</td>\n",
       "      <td>91</td>\n",
       "    </tr>\n",
       "    <tr>\n",
       "      <th>4</th>\n",
       "      <td>Chennai Super Kings</td>\n",
       "      <td>178</td>\n",
       "      <td>88</td>\n",
       "    </tr>\n",
       "    <tr>\n",
       "      <th>5</th>\n",
       "      <td>Delhi Daredevils</td>\n",
       "      <td>161</td>\n",
       "      <td>81</td>\n",
       "    </tr>\n",
       "    <tr>\n",
       "      <th>6</th>\n",
       "      <td>Rajasthan Royals</td>\n",
       "      <td>161</td>\n",
       "      <td>67</td>\n",
       "    </tr>\n",
       "    <tr>\n",
       "      <th>7</th>\n",
       "      <td>Sunrisers Hyderabad</td>\n",
       "      <td>124</td>\n",
       "      <td>66</td>\n",
       "    </tr>\n",
       "    <tr>\n",
       "      <th>8</th>\n",
       "      <td>Deccan Chargers</td>\n",
       "      <td>75</td>\n",
       "      <td>29</td>\n",
       "    </tr>\n",
       "    <tr>\n",
       "      <th>9</th>\n",
       "      <td>Pune Warriors</td>\n",
       "      <td>46</td>\n",
       "      <td>19</td>\n",
       "    </tr>\n",
       "    <tr>\n",
       "      <th>10</th>\n",
       "      <td>Delhi Capitals</td>\n",
       "      <td>33</td>\n",
       "      <td>13</td>\n",
       "    </tr>\n",
       "    <tr>\n",
       "      <th>11</th>\n",
       "      <td>Gujarat Lions</td>\n",
       "      <td>30</td>\n",
       "      <td>12</td>\n",
       "    </tr>\n",
       "    <tr>\n",
       "      <th>12</th>\n",
       "      <td>Rising Pune Supergiant</td>\n",
       "      <td>16</td>\n",
       "      <td>10</td>\n",
       "    </tr>\n",
       "    <tr>\n",
       "      <th>13</th>\n",
       "      <td>Kochi Tuskers Kerala</td>\n",
       "      <td>14</td>\n",
       "      <td>6</td>\n",
       "    </tr>\n",
       "    <tr>\n",
       "      <th>14</th>\n",
       "      <td>Rising Pune Supergiants</td>\n",
       "      <td>14</td>\n",
       "      <td>5</td>\n",
       "    </tr>\n",
       "  </tbody>\n",
       "</table>\n",
       "</div>"
      ],
      "text/plain": [
       "                           Team  Total Matches  wins\n",
       "0                Mumbai Indians            203   120\n",
       "1   Royal Challengers Bangalore            195   106\n",
       "2         Kolkata Knight Riders            192    99\n",
       "3               Kings XI Punjab            190    91\n",
       "4           Chennai Super Kings            178    88\n",
       "5              Delhi Daredevils            161    81\n",
       "6              Rajasthan Royals            161    67\n",
       "7           Sunrisers Hyderabad            124    66\n",
       "8               Deccan Chargers             75    29\n",
       "9                 Pune Warriors             46    19\n",
       "10               Delhi Capitals             33    13\n",
       "11                Gujarat Lions             30    12\n",
       "12       Rising Pune Supergiant             16    10\n",
       "13         Kochi Tuskers Kerala             14     6\n",
       "14      Rising Pune Supergiants             14     5"
      ]
     },
     "execution_count": 110,
     "metadata": {},
     "output_type": "execute_result"
    }
   ],
   "source": [
    "matches_played.reset_index()"
   ]
  },
  {
   "cell_type": "code",
   "execution_count": 111,
   "id": "1741e9ae",
   "metadata": {},
   "outputs": [
    {
     "data": {
      "text/plain": [
       "Team\n",
       "Mumbai Indians                 59.1\n",
       "Royal Challengers Bangalore    54.4\n",
       "Kolkata Knight Riders          51.6\n",
       "Kings XI Punjab                47.9\n",
       "Chennai Super Kings            49.4\n",
       "Delhi Daredevils               50.3\n",
       "Rajasthan Royals               41.6\n",
       "Sunrisers Hyderabad            53.2\n",
       "Deccan Chargers                38.7\n",
       "Pune Warriors                  41.3\n",
       "Delhi Capitals                 39.4\n",
       "Gujarat Lions                  40.0\n",
       "Rising Pune Supergiant         62.5\n",
       "Kochi Tuskers Kerala           42.9\n",
       "Rising Pune Supergiants        35.7\n",
       "dtype: float64"
      ]
     },
     "execution_count": 111,
     "metadata": {},
     "output_type": "execute_result"
    }
   ],
   "source": [
    "win_percentage = round(matches_played['wins']/matches_played['Total Matches'],3)*100\n",
    "win_percentage"
   ]
  },
  {
   "cell_type": "code",
   "execution_count": 112,
   "id": "4c296bd6",
   "metadata": {},
   "outputs": [
    {
     "data": {
      "text/plain": [
       "Team\n",
       "Rising Pune Supergiant         62.5\n",
       "Mumbai Indians                 59.1\n",
       "Royal Challengers Bangalore    54.4\n",
       "Sunrisers Hyderabad            53.2\n",
       "Kolkata Knight Riders          51.6\n",
       "Delhi Daredevils               50.3\n",
       "Chennai Super Kings            49.4\n",
       "Kings XI Punjab                47.9\n",
       "Kochi Tuskers Kerala           42.9\n",
       "Rajasthan Royals               41.6\n",
       "Pune Warriors                  41.3\n",
       "Gujarat Lions                  40.0\n",
       "Delhi Capitals                 39.4\n",
       "Deccan Chargers                38.7\n",
       "Rising Pune Supergiants        35.7\n",
       "dtype: float64"
      ]
     },
     "execution_count": 112,
     "metadata": {},
     "output_type": "execute_result"
    }
   ],
   "source": [
    "win_percentage.sort_values(ascending = False)"
   ]
  },
  {
   "cell_type": "code",
   "execution_count": 113,
   "id": "5708d1de",
   "metadata": {},
   "outputs": [
    {
     "name": "stderr",
     "output_type": "stream",
     "text": [
      "C:\\Users\\aksha\\anaconda3\\lib\\site-packages\\seaborn\\_decorators.py:36: FutureWarning: Pass the following variables as keyword args: x, y. From version 0.12, the only valid positional argument will be `data`, and passing other arguments without an explicit keyword will result in an error or misinterpretation.\n",
      "  warnings.warn(\n"
     ]
    },
    {
     "data": {
      "image/png": "[encoded data removed]",
      "text/plain": [
       "<Figure size 864x432 with 1 Axes>"
      ]
     },
     "metadata": {
      "needs_background": "light"
     },
     "output_type": "display_data"
    }
   ],
   "source": [
    "plt.figure(figsize=(12,6))\n",
    "plt.xticks(rotation=90)\n",
    "plt.title('Matches Played vs. Matches Won')\n",
    "sns.barplot(matches_played['Total Matches'].index, win_percentage);"
   ]
  },
  {
   "cell_type": "code",
   "execution_count": 114,
   "id": "f98a28f0",
   "metadata": {},
   "outputs": [],
   "source": [
    "## Rising Pune Supergiant has the best stats."
   ]
  },
  {
   "cell_type": "code",
   "execution_count": 115,
   "id": "c9532158",
   "metadata": {},
   "outputs": [],
   "source": [
    "##Maximum Runs Scored By A Team"
   ]
  },
  {
   "cell_type": "code",
   "execution_count": 117,
   "id": "cb581a93",
   "metadata": {},
   "outputs": [
    {
     "data": {
      "text/html": [
       "<div>\n",
       "<style scoped>\n",
       "    .dataframe tbody tr th:only-of-type {\n",
       "        vertical-align: middle;\n",
       "    }\n",
       "\n",
       "    .dataframe tbody tr th {\n",
       "        vertical-align: top;\n",
       "    }\n",
       "\n",
       "    .dataframe thead th {\n",
       "        text-align: right;\n",
       "    }\n",
       "</style>\n",
       "<table border=\"1\" class=\"dataframe\">\n",
       "  <thead>\n",
       "    <tr style=\"text-align: right;\">\n",
       "      <th></th>\n",
       "      <th>id</th>\n",
       "      <th>inning</th>\n",
       "      <th>batting_team</th>\n",
       "      <th>bowling_team</th>\n",
       "      <th>total_runs</th>\n",
       "    </tr>\n",
       "  </thead>\n",
       "  <tbody>\n",
       "    <tr>\n",
       "      <th>700</th>\n",
       "      <td>598027</td>\n",
       "      <td>1</td>\n",
       "      <td>Royal Challengers Bangalore</td>\n",
       "      <td>Pune Warriors</td>\n",
       "      <td>263</td>\n",
       "    </tr>\n",
       "    <tr>\n",
       "      <th>1116</th>\n",
       "      <td>980987</td>\n",
       "      <td>1</td>\n",
       "      <td>Royal Challengers Bangalore</td>\n",
       "      <td>Gujarat Lions</td>\n",
       "      <td>248</td>\n",
       "    </tr>\n",
       "    <tr>\n",
       "      <th>292</th>\n",
       "      <td>419137</td>\n",
       "      <td>1</td>\n",
       "      <td>Chennai Super Kings</td>\n",
       "      <td>Rajasthan Royals</td>\n",
       "      <td>246</td>\n",
       "    </tr>\n",
       "    <tr>\n",
       "      <th>1354</th>\n",
       "      <td>1136604</td>\n",
       "      <td>1</td>\n",
       "      <td>Kolkata Knight Riders</td>\n",
       "      <td>Kings XI Punjab</td>\n",
       "      <td>245</td>\n",
       "    </tr>\n",
       "    <tr>\n",
       "      <th>2</th>\n",
       "      <td>335983</td>\n",
       "      <td>1</td>\n",
       "      <td>Chennai Super Kings</td>\n",
       "      <td>Kings XI Punjab</td>\n",
       "      <td>240</td>\n",
       "    </tr>\n",
       "    <tr>\n",
       "      <th>1000</th>\n",
       "      <td>829795</td>\n",
       "      <td>1</td>\n",
       "      <td>Royal Challengers Bangalore</td>\n",
       "      <td>Mumbai Indians</td>\n",
       "      <td>235</td>\n",
       "    </tr>\n",
       "    <tr>\n",
       "      <th>472</th>\n",
       "      <td>501260</td>\n",
       "      <td>1</td>\n",
       "      <td>Kings XI Punjab</td>\n",
       "      <td>Royal Challengers Bangalore</td>\n",
       "      <td>232</td>\n",
       "    </tr>\n",
       "    <tr>\n",
       "      <th>1480</th>\n",
       "      <td>1178422</td>\n",
       "      <td>1</td>\n",
       "      <td>Kolkata Knight Riders</td>\n",
       "      <td>Mumbai Indians</td>\n",
       "      <td>232</td>\n",
       "    </tr>\n",
       "    <tr>\n",
       "      <th>398</th>\n",
       "      <td>501223</td>\n",
       "      <td>1</td>\n",
       "      <td>Delhi Daredevils</td>\n",
       "      <td>Kings XI Punjab</td>\n",
       "      <td>231</td>\n",
       "    </tr>\n",
       "    <tr>\n",
       "      <th>850</th>\n",
       "      <td>733987</td>\n",
       "      <td>1</td>\n",
       "      <td>Kings XI Punjab</td>\n",
       "      <td>Chennai Super Kings</td>\n",
       "      <td>231</td>\n",
       "    </tr>\n",
       "  </tbody>\n",
       "</table>\n",
       "</div>"
      ],
      "text/plain": [
       "           id  inning                 batting_team  \\\n",
       "700    598027       1  Royal Challengers Bangalore   \n",
       "1116   980987       1  Royal Challengers Bangalore   \n",
       "292    419137       1          Chennai Super Kings   \n",
       "1354  1136604       1        Kolkata Knight Riders   \n",
       "2      335983       1          Chennai Super Kings   \n",
       "1000   829795       1  Royal Challengers Bangalore   \n",
       "472    501260       1              Kings XI Punjab   \n",
       "1480  1178422       1        Kolkata Knight Riders   \n",
       "398    501223       1             Delhi Daredevils   \n",
       "850    733987       1              Kings XI Punjab   \n",
       "\n",
       "                     bowling_team  total_runs  \n",
       "700                 Pune Warriors         263  \n",
       "1116                Gujarat Lions         248  \n",
       "292              Rajasthan Royals         246  \n",
       "1354              Kings XI Punjab         245  \n",
       "2                 Kings XI Punjab         240  \n",
       "1000               Mumbai Indians         235  \n",
       "472   Royal Challengers Bangalore         232  \n",
       "1480               Mumbai Indians         232  \n",
       "398               Kings XI Punjab         231  \n",
       "850           Chennai Super Kings         231  "
      ]
     },
     "execution_count": 117,
     "metadata": {},
     "output_type": "execute_result"
    }
   ],
   "source": [
    "high_scores = ipl2.groupby(['id', 'inning','batting_team','bowling_team'])['total_runs'].sum().reset_index() \n",
    "high_scores = high_scores[high_scores['total_runs']>=200]\n",
    "high_scores.nlargest(10,'total_runs')"
   ]
  },
  {
   "cell_type": "code",
   "execution_count": 118,
   "id": "d26f313b",
   "metadata": {},
   "outputs": [],
   "source": [
    "### 10 largest teams having scores > 200."
   ]
  },
  {
   "cell_type": "code",
   "execution_count": 119,
   "id": "cc7dbfcc",
   "metadata": {},
   "outputs": [],
   "source": [
    "### Royal Challenger Bangalore scored maximum runs in one inning against Pune Warriors."
   ]
  },
  {
   "cell_type": "code",
   "execution_count": 120,
   "id": "08648e14",
   "metadata": {},
   "outputs": [],
   "source": [
    "### Does winning the toss increase the chances of winning the match?"
   ]
  },
  {
   "cell_type": "code",
   "execution_count": 121,
   "id": "3990fefa",
   "metadata": {},
   "outputs": [
    {
     "data": {
      "text/plain": [
       "True     418\n",
       "False    398\n",
       "dtype: int64"
      ]
     },
     "execution_count": 121,
     "metadata": {},
     "output_type": "execute_result"
    }
   ],
   "source": [
    "win = ipl.winner == ipl.toss_winner\n",
    "win_counts = win.value_counts()\n",
    "win_counts"
   ]
  },
  {
   "cell_type": "code",
   "execution_count": 122,
   "id": "78a4db97",
   "metadata": {},
   "outputs": [],
   "source": [
    "### Plotting a pie chart"
   ]
  },
  {
   "cell_type": "code",
   "execution_count": 123,
   "id": "a90d61c5",
   "metadata": {},
   "outputs": [
    {
     "data": {
      "text/plain": [
       "True     51.23\n",
       "False    48.77\n",
       "dtype: float64"
      ]
     },
     "execution_count": 123,
     "metadata": {},
     "output_type": "execute_result"
    }
   ],
   "source": [
    "round((win_counts/win.count())*100,2)"
   ]
  },
  {
   "cell_type": "code",
   "execution_count": 124,
   "id": "59b263cd",
   "metadata": {},
   "outputs": [
    {
     "data": {
      "image/png": "[encoded data removed]",
      "text/plain": [
       "<Figure size 864x432 with 1 Axes>"
      ]
     },
     "metadata": {},
     "output_type": "display_data"
    }
   ],
   "source": [
    "plt.figure(figsize=(12,6))\n",
    "plt.title('Does winning the toss increase the chances of winning the match?')\n",
    "plt.pie(win_counts,labels=win_counts.index,autopct='%1.1f%%', startangle=180);"
   ]
  },
  {
   "cell_type": "code",
   "execution_count": 125,
   "id": "75ac821b",
   "metadata": {},
   "outputs": [],
   "source": [
    "## Team which has won maximum no. of matches"
   ]
  },
  {
   "cell_type": "code",
   "execution_count": 126,
   "id": "16d5b18c",
   "metadata": {},
   "outputs": [
    {
     "data": {
      "text/plain": [
       "Mumbai Indians                 120\n",
       "Chennai Super Kings            106\n",
       "Kolkata Knight Riders           99\n",
       "Royal Challengers Bangalore     91\n",
       "Kings XI Punjab                 88\n",
       "Rajasthan Royals                81\n",
       "Delhi Daredevils                67\n",
       "Sunrisers Hyderabad             66\n",
       "Deccan Chargers                 29\n",
       "Delhi Capitals                  19\n",
       "Gujarat Lions                   13\n",
       "Pune Warriors                   12\n",
       "Rising Pune Supergiant          10\n",
       "Kochi Tuskers Kerala             6\n",
       "Rising Pune Supergiants          5\n",
       "Name: winner, dtype: int64"
      ]
     },
     "execution_count": 126,
     "metadata": {},
     "output_type": "execute_result"
    }
   ],
   "source": [
    "winner = ipl.winner.value_counts()\n",
    "winner"
   ]
  },
  {
   "cell_type": "code",
   "execution_count": 127,
   "id": "4bd91a9d",
   "metadata": {},
   "outputs": [
    {
     "name": "stderr",
     "output_type": "stream",
     "text": [
      "C:\\Users\\aksha\\anaconda3\\lib\\site-packages\\seaborn\\_decorators.py:36: FutureWarning: Pass the following variables as keyword args: x, y. From version 0.12, the only valid positional argument will be `data`, and passing other arguments without an explicit keyword will result in an error or misinterpretation.\n",
      "  warnings.warn(\n"
     ]
    },
    {
     "data": {
      "image/png": "[encoded data removed]",
      "text/plain": [
       "<Figure size 864x432 with 1 Axes>"
      ]
     },
     "metadata": {
      "needs_background": "light"
     },
     "output_type": "display_data"
    }
   ],
   "source": [
    "plt.figure(figsize=(12,6))\n",
    "plt.xticks(rotation=75)\n",
    "plt.title('Which team won the maximum number of matches in all seasons?')\n",
    "sns.barplot(winner.index, winner);"
   ]
  },
  {
   "cell_type": "code",
   "execution_count": 128,
   "id": "62780f13",
   "metadata": {},
   "outputs": [],
   "source": [
    "##Which player has become man of the match most no. of times ?"
   ]
  },
  {
   "cell_type": "code",
   "execution_count": 129,
   "id": "c435a867",
   "metadata": {},
   "outputs": [
    {
     "data": {
      "text/plain": [
       "AB de Villiers    23\n",
       "CH Gayle          22\n",
       "RG Sharma         18\n",
       "DA Warner         17\n",
       "MS Dhoni          17\n",
       "                  ..\n",
       "S Anirudha         1\n",
       "M Kartik           1\n",
       "R McLaren          1\n",
       "RJ Harris          1\n",
       "PJ Cummins         1\n",
       "Name: player_of_match, Length: 233, dtype: int64"
      ]
     },
     "execution_count": 129,
     "metadata": {},
     "output_type": "execute_result"
    }
   ],
   "source": [
    "m_o_m = ipl.player_of_match.value_counts()\n",
    "m_o_m"
   ]
  },
  {
   "cell_type": "code",
   "execution_count": 130,
   "id": "62553e1f",
   "metadata": {},
   "outputs": [
    {
     "name": "stderr",
     "output_type": "stream",
     "text": [
      "C:\\Users\\aksha\\anaconda3\\lib\\site-packages\\seaborn\\_decorators.py:36: FutureWarning: Pass the following variables as keyword args: x, y. From version 0.12, the only valid positional argument will be `data`, and passing other arguments without an explicit keyword will result in an error or misinterpretation.\n",
      "  warnings.warn(\n"
     ]
    },
    {
     "data": {
      "image/png": "[encoded data removed]",
      "text/plain": [
       "<Figure size 864x432 with 1 Axes>"
      ]
     },
     "metadata": {
      "needs_background": "light"
     },
     "output_type": "display_data"
    }
   ],
   "source": [
    "m_o_m_10 = m_o_m[:10]\n",
    "plt.figure(figsize=(12,6))\n",
    "plt.xticks(rotation=75)\n",
    "plt.title('Top 10 players with most number of Man of the Match title')\n",
    "sns.barplot(m_o_m_10.index, m_o_m_10);"
   ]
  },
  {
   "cell_type": "code",
   "execution_count": 131,
   "id": "9ef1c047",
   "metadata": {},
   "outputs": [],
   "source": [
    "##Top 5 scoring batmen"
   ]
  },
  {
   "cell_type": "code",
   "execution_count": 132,
   "id": "25032b0e",
   "metadata": {},
   "outputs": [
    {
     "data": {
      "text/html": [
       "<div>\n",
       "<style scoped>\n",
       "    .dataframe tbody tr th:only-of-type {\n",
       "        vertical-align: middle;\n",
       "    }\n",
       "\n",
       "    .dataframe tbody tr th {\n",
       "        vertical-align: top;\n",
       "    }\n",
       "\n",
       "    .dataframe thead th {\n",
       "        text-align: right;\n",
       "    }\n",
       "</style>\n",
       "<table border=\"1\" class=\"dataframe\">\n",
       "  <thead>\n",
       "    <tr style=\"text-align: right;\">\n",
       "      <th></th>\n",
       "      <th>batsman</th>\n",
       "      <th>Runs</th>\n",
       "    </tr>\n",
       "  </thead>\n",
       "  <tbody>\n",
       "    <tr>\n",
       "      <th>505</th>\n",
       "      <td>V Kohli</td>\n",
       "      <td>5878</td>\n",
       "    </tr>\n",
       "    <tr>\n",
       "      <th>438</th>\n",
       "      <td>SK Raina</td>\n",
       "      <td>5368</td>\n",
       "    </tr>\n",
       "    <tr>\n",
       "      <th>116</th>\n",
       "      <td>DA Warner</td>\n",
       "      <td>5254</td>\n",
       "    </tr>\n",
       "    <tr>\n",
       "      <th>379</th>\n",
       "      <td>RG Sharma</td>\n",
       "      <td>5230</td>\n",
       "    </tr>\n",
       "    <tr>\n",
       "      <th>407</th>\n",
       "      <td>S Dhawan</td>\n",
       "      <td>5197</td>\n",
       "    </tr>\n",
       "  </tbody>\n",
       "</table>\n",
       "</div>"
      ],
      "text/plain": [
       "       batsman  Runs\n",
       "505    V Kohli  5878\n",
       "438   SK Raina  5368\n",
       "116  DA Warner  5254\n",
       "379  RG Sharma  5230\n",
       "407   S Dhawan  5197"
      ]
     },
     "execution_count": 132,
     "metadata": {},
     "output_type": "execute_result"
    }
   ],
   "source": [
    "batsmen = ipl2.groupby('batsman').apply(lambda x : np.sum(x['batsman_runs'])).reset_index(name='Runs')\n",
    "batsmen_sorted=batsmen.sort_values(by='Runs',ascending=False)\n",
    "top_batsmen=batsmen_sorted[:5]\n",
    "top_batsmen"
   ]
  },
  {
   "cell_type": "code",
   "execution_count": 133,
   "id": "806f4076",
   "metadata": {},
   "outputs": [
    {
     "name": "stderr",
     "output_type": "stream",
     "text": [
      "C:\\Users\\aksha\\anaconda3\\lib\\site-packages\\seaborn\\_decorators.py:36: FutureWarning: Pass the following variables as keyword args: x, y. From version 0.12, the only valid positional argument will be `data`, and passing other arguments without an explicit keyword will result in an error or misinterpretation.\n",
      "  warnings.warn(\n"
     ]
    },
    {
     "data": {
      "image/png": "[encoded data removed]",
      "text/plain": [
       "<Figure size 864x432 with 1 Axes>"
      ]
     },
     "metadata": {
      "needs_background": "light"
     },
     "output_type": "display_data"
    }
   ],
   "source": [
    "plt.figure(figsize=(12,6))\n",
    "plt.title('Top 5 Batsmen')\n",
    "sns.barplot(top_batsmen['batsman'],top_batsmen['Runs']);"
   ]
  },
  {
   "cell_type": "code",
   "execution_count": 134,
   "id": "acead1c4",
   "metadata": {},
   "outputs": [],
   "source": [
    "###Virat Kohli scored the maximum no. of runs i.e 5878 as is seen from the previous table."
   ]
  },
  {
   "cell_type": "code",
   "execution_count": null,
   "id": "6c830c48",
   "metadata": {},
   "outputs": [],
   "source": []
  },
  {
   "cell_type": "code",
   "execution_count": null,
   "id": "84ad9bc5",
   "metadata": {},
   "outputs": [],
   "source": []
  },
  {
   "cell_type": "code",
   "execution_count": null,
   "id": "91c5226a",
   "metadata": {
    "scrolled": true
   },
   "outputs": [],
   "source": []
  },
  {
   "cell_type": "code",
   "execution_count": null,
   "id": "e234209f",
   "metadata": {},
   "outputs": [],
   "source": []
  }
 ],
 "metadata": {
  "kernelspec": {
   "display_name": "Python 3 (ipykernel)",
   "language": "python",
   "name": "python3"
  },
  "language_info": {
   "codemirror_mode": {
    "name": "ipython",
    "version": 3
   },
   "file_extension": ".py",
   "mimetype": "text/x-python",
   "name": "python",
   "nbconvert_exporter": "python",
   "pygments_lexer": "ipython3",
   "version": "3.9.7"
  }
 },
 "nbformat": 4,
 "nbformat_minor": 5
}
